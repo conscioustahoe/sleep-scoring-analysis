{
 "cells": [
  {
   "cell_type": "markdown",
   "id": "b5b94449-ae54-4bb6-b8b1-7d38300b0937",
   "metadata": {},
   "source": [
    "# Pairwise Covariance"
   ]
  },
  {
   "cell_type": "code",
   "execution_count": 1,
   "id": "bb3174e5-954f-4e7e-8e00-b6e749e7216f",
   "metadata": {
    "tags": []
   },
   "outputs": [],
   "source": [
    "from scipy.io import loadmat\n",
    "lfp_buz_features = loadmat('synthesised-features/lfp_buz_features.mat')"
   ]
  },
  {
   "cell_type": "code",
   "execution_count": 2,
   "id": "b97eb96b-cce5-44e0-ae5e-52865b282fe7",
   "metadata": {
    "tags": []
   },
   "outputs": [],
   "source": [
    "import pandas as pd\n",
    "import numpy as np\n",
    "\n",
    "lfp_matrix = np.array(lfp_buz_features['lfpFeatures'])\n",
    "\n",
    "numColumns = len(lfp_matrix[0])\n",
    "\n",
    "delta_pfc_df = pd.DataFrame(lfp_matrix[:, 0], columns=[\"DeltaPFC\"])\n",
    "theta_hpc_df = pd.DataFrame(lfp_matrix[:, 1], columns=[\"ThetaHPC\"])\n",
    "beta_pfc_df = pd.DataFrame(lfp_matrix[:, 2], columns=[\"BetaPFC\"])\n",
    "gamma_hpc_df = pd.DataFrame(lfp_matrix[:, 3], columns=[\"GammaHPC\"])\n",
    "emg_like_df = pd.DataFrame(lfp_matrix[:, 4], columns=[\"EMGLike\"])\n",
    "\n",
    "timesteps = 10820"
   ]
  },
  {
   "cell_type": "markdown",
   "id": "ef513312-190f-4f7d-83bf-dc8257a2c48b",
   "metadata": {},
   "source": [
    "## Pairwise Signal Ratios"
   ]
  },
  {
   "cell_type": "code",
   "execution_count": 3,
   "id": "cc4edae5-5900-4381-ae37-1a4af45a8ed9",
   "metadata": {
    "tags": []
   },
   "outputs": [],
   "source": [
    "delta_pfc_theta_hpc = delta_pfc_df['DeltaPFC'] / theta_hpc_df['ThetaHPC']\n",
    "delta_pfc_beta_pfc  = delta_pfc_df['DeltaPFC'] / beta_pfc_df['BetaPFC']\n",
    "delta_pfc_gamma_hpc = delta_pfc_df['DeltaPFC'] / gamma_hpc_df['GammaHPC']\n",
    "theta_hpc_beta_pfc  = theta_hpc_df['ThetaHPC'] / beta_pfc_df['BetaPFC']\n",
    "theta_hpc_gamma_hpc = theta_hpc_df['ThetaHPC'] / gamma_hpc_df['GammaHPC']\n",
    "beta_pfc_gamma_hpc  = beta_pfc_df['BetaPFC'] / gamma_hpc_df['GammaHPC']"
   ]
  },
  {
   "cell_type": "markdown",
   "id": "43c7adcc-9fc3-4b61-bca3-08207c66172e",
   "metadata": {},
   "source": [
    "## Correlation Matrix"
   ]
  },
  {
   "cell_type": "code",
   "execution_count": 4,
   "id": "93297b4a-abbe-4157-9e3c-5e0655404372",
   "metadata": {
    "tags": []
   },
   "outputs": [
    {
     "data": {
      "text/html": [
       "<div>\n",
       "<style scoped>\n",
       "    .dataframe tbody tr th:only-of-type {\n",
       "        vertical-align: middle;\n",
       "    }\n",
       "\n",
       "    .dataframe tbody tr th {\n",
       "        vertical-align: top;\n",
       "    }\n",
       "\n",
       "    .dataframe thead th {\n",
       "        text-align: right;\n",
       "    }\n",
       "</style>\n",
       "<table border=\"1\" class=\"dataframe\">\n",
       "  <thead>\n",
       "    <tr style=\"text-align: right;\">\n",
       "      <th></th>\n",
       "      <th>∂/θ</th>\n",
       "      <th>∂/β</th>\n",
       "      <th>∂/γ</th>\n",
       "      <th>θ/β</th>\n",
       "      <th>θ/γ</th>\n",
       "      <th>β/γ</th>\n",
       "    </tr>\n",
       "  </thead>\n",
       "  <tbody>\n",
       "    <tr>\n",
       "      <th>∂/θ</th>\n",
       "      <td>1.000000</td>\n",
       "      <td>0.076000</td>\n",
       "      <td>0.088899</td>\n",
       "      <td>-0.060392</td>\n",
       "      <td>-0.143987</td>\n",
       "      <td>-0.060140</td>\n",
       "    </tr>\n",
       "    <tr>\n",
       "      <th>∂/β</th>\n",
       "      <td>0.076000</td>\n",
       "      <td>1.000000</td>\n",
       "      <td>0.135147</td>\n",
       "      <td>0.816011</td>\n",
       "      <td>-0.165068</td>\n",
       "      <td>-0.236491</td>\n",
       "    </tr>\n",
       "    <tr>\n",
       "      <th>∂/γ</th>\n",
       "      <td>0.088899</td>\n",
       "      <td>0.135147</td>\n",
       "      <td>1.000000</td>\n",
       "      <td>-0.097001</td>\n",
       "      <td>0.438689</td>\n",
       "      <td>0.653227</td>\n",
       "    </tr>\n",
       "    <tr>\n",
       "      <th>θ/β</th>\n",
       "      <td>-0.060392</td>\n",
       "      <td>0.816011</td>\n",
       "      <td>-0.097001</td>\n",
       "      <td>1.000000</td>\n",
       "      <td>0.153398</td>\n",
       "      <td>-0.127967</td>\n",
       "    </tr>\n",
       "    <tr>\n",
       "      <th>θ/γ</th>\n",
       "      <td>-0.143987</td>\n",
       "      <td>-0.165068</td>\n",
       "      <td>0.438689</td>\n",
       "      <td>0.153398</td>\n",
       "      <td>1.000000</td>\n",
       "      <td>0.775282</td>\n",
       "    </tr>\n",
       "  </tbody>\n",
       "</table>\n",
       "</div>"
      ],
      "text/plain": [
       "          ∂/θ       ∂/β       ∂/γ       θ/β       θ/γ       β/γ\n",
       "∂/θ  1.000000  0.076000  0.088899 -0.060392 -0.143987 -0.060140\n",
       "∂/β  0.076000  1.000000  0.135147  0.816011 -0.165068 -0.236491\n",
       "∂/γ  0.088899  0.135147  1.000000 -0.097001  0.438689  0.653227\n",
       "θ/β -0.060392  0.816011 -0.097001  1.000000  0.153398 -0.127967\n",
       "θ/γ -0.143987 -0.165068  0.438689  0.153398  1.000000  0.775282"
      ]
     },
     "execution_count": 4,
     "metadata": {},
     "output_type": "execute_result"
    }
   ],
   "source": [
    "import matplotlib.pyplot as plt\n",
    "import seaborn as sns\n",
    "\n",
    "pairwise_dfs = pd.concat([\n",
    "        delta_pfc_theta_hpc, \n",
    "        delta_pfc_beta_pfc, \n",
    "        delta_pfc_gamma_hpc,\n",
    "        theta_hpc_beta_pfc,\n",
    "        theta_hpc_gamma_hpc,\n",
    "        beta_pfc_gamma_hpc,\n",
    "    ], \n",
    "    axis=1,\n",
    "    keys=['∂/θ', '∂/β', '∂/γ', 'θ/β', 'θ/γ', 'β/γ']\n",
    ")\n",
    "\n",
    "correlation_matrix = pairwise_dfs.corr()\n",
    "correlation_matrix.head()"
   ]
  },
  {
   "cell_type": "code",
   "execution_count": 5,
   "id": "55efd6f4-dbf5-4454-8de1-ac9f2a355dfc",
   "metadata": {
    "tags": []
   },
   "outputs": [
    {
     "data": {
      "image/png": "[encoded data removed]",
      "text/plain": [
       "<Figure size 720x576 with 2 Axes>"
      ]
     },
     "metadata": {
      "needs_background": "light"
     },
     "output_type": "display_data"
    }
   ],
   "source": [
    "plt.figure(figsize=(10, 8))\n",
    "ax = sns.heatmap(correlation_matrix, \n",
    "            annot=True, \n",
    "            cmap='coolwarm', \n",
    "            fmt=\".2f\")\n",
    "\n",
    "ax.set_xticklabels(ax.get_xticklabels(), fontsize=18)\n",
    "ax.set_yticklabels(ax.get_yticklabels(), fontsize=18)\n",
    "\n",
    "plt.title('Correlation Matrix of EEG Signals')\n",
    "plt.show()"
   ]
  },
  {
   "cell_type": "code",
   "execution_count": null,
   "id": "12aa4640-1a03-4a37-b5bb-9723bd8d8775",
   "metadata": {},
   "outputs": [],
   "source": []
  }
 ],
 "metadata": {
  "kernelspec": {
   "display_name": "sleep-scoring-venv",
   "language": "python",
   "name": "sleep-scoring-venv"
  },
  "language_info": {
   "codemirror_mode": {
    "name": "ipython",
    "version": 3
   },
   "file_extension": ".py",
   "mimetype": "text/x-python",
   "name": "python",
   "nbconvert_exporter": "python",
   "pygments_lexer": "ipython3",
   "version": "3.10.4"
  }
 },
 "nbformat": 4,
 "nbformat_minor": 5
}
