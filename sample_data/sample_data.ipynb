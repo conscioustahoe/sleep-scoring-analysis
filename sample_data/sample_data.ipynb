{
 "cells": [
  {
   "cell_type": "code",
   "execution_count": 1,
   "id": "8a3dee51-6c6f-4c2b-b1a1-aaf8d31d0ee1",
   "metadata": {
    "tags": []
   },
   "outputs": [],
   "source": [
    "from scipy.io import loadmat"
   ]
  },
  {
   "cell_type": "code",
   "execution_count": 2,
   "id": "d64ac3b2-0a55-4d3e-9add-d57123ca7a87",
   "metadata": {},
   "outputs": [],
   "source": [
    "eeg_emg_bands = loadmat('sample_data.mat')"
   ]
  },
  {
   "cell_type": "code",
   "execution_count": 3,
   "id": "bca26748-95dc-45ed-811c-62aec0828602",
   "metadata": {
    "tags": []
   },
   "outputs": [
    {
     "data": {
      "text/plain": [
       "dict_keys(['__header__', '__version__', '__globals__', 'epochTime', 'd', 'bandsD', 'epochsLinked'])"
      ]
     },
     "execution_count": 3,
     "metadata": {},
     "output_type": "execute_result"
    }
   ],
   "source": [
    "eeg_emg_bands.keys()"
   ]
  },
  {
   "cell_type": "code",
   "execution_count": 4,
   "id": "85735dfc-038c-4aa5-bf8f-33919361ba34",
   "metadata": {
    "tags": []
   },
   "outputs": [],
   "source": [
    "eeg_emg_bands['d'];"
   ]
  },
  {
   "cell_type": "code",
   "execution_count": 5,
   "id": "490cd65d-11b1-4746-9a94-627d2234184c",
   "metadata": {
    "tags": []
   },
   "outputs": [
    {
     "data": {
      "text/plain": [
       "36432"
      ]
     },
     "execution_count": 5,
     "metadata": {},
     "output_type": "execute_result"
    }
   ],
   "source": [
    "len(eeg_emg_bands['d'])"
   ]
  },
  {
   "cell_type": "code",
   "execution_count": 6,
   "id": "4e29bddb-7ad8-4348-9b90-35769d98bde3",
   "metadata": {
    "tags": []
   },
   "outputs": [
    {
     "data": {
      "text/plain": [
       "11"
      ]
     },
     "execution_count": 6,
     "metadata": {},
     "output_type": "execute_result"
    }
   ],
   "source": [
    "len(eeg_emg_bands['d'][0])"
   ]
  },
  {
   "cell_type": "code",
   "execution_count": 7,
   "id": "f7311c9d-9337-4664-8993-09f8dd149bfd",
   "metadata": {
    "tags": []
   },
   "outputs": [
    {
     "data": {
      "text/plain": [
       "array([[    0,     0,     1,    61],\n",
       "       [    1,     1,     1,    61],\n",
       "       [    2,     2,     1,    61],\n",
       "       ...,\n",
       "       [16197, 37407,     2,    61],\n",
       "       [16198, 37408,     2,    61],\n",
       "       [16199, 37409,     2,    61]], dtype=int32)"
      ]
     },
     "execution_count": 7,
     "metadata": {},
     "output_type": "execute_result"
    }
   ],
   "source": [
    "eeg_emg_bands['epochsLinked']"
   ]
  },
  {
   "cell_type": "code",
   "execution_count": 8,
   "id": "8d69e25e-bca5-4b49-9ba1-ab5af55d308d",
   "metadata": {
    "tags": []
   },
   "outputs": [
    {
     "data": {
      "text/plain": [
       "36432"
      ]
     },
     "execution_count": 8,
     "metadata": {},
     "output_type": "execute_result"
    }
   ],
   "source": [
    "len(eeg_emg_bands['epochsLinked'])"
   ]
  },
  {
   "cell_type": "code",
   "execution_count": 9,
   "id": "97fe30f9-1f3c-4e6f-9c25-9790005aa28a",
   "metadata": {
    "tags": []
   },
   "outputs": [
    {
     "data": {
      "text/plain": [
       "dtype('<f8')"
      ]
     },
     "execution_count": 9,
     "metadata": {},
     "output_type": "execute_result"
    }
   ],
   "source": [
    "eeg_emg_bands['epochTime'].dtype"
   ]
  },
  {
   "cell_type": "code",
   "execution_count": 10,
   "id": "66fd1c02-35b8-4a15-ba0a-56510d68a00a",
   "metadata": {
    "tags": []
   },
   "outputs": [
    {
     "data": {
      "text/plain": [
       "8.234392028162487e-05"
      ]
     },
     "execution_count": 10,
     "metadata": {},
     "output_type": "execute_result"
    }
   ],
   "source": [
    "(eeg_emg_bands['epochTime'][36431][2] - eeg_emg_bands['epochTime'][0][2]) / 36432"
   ]
  },
  {
   "cell_type": "code",
   "execution_count": 11,
   "id": "7cf501dd-de5b-490d-ad6b-733792f8238b",
   "metadata": {
    "tags": []
   },
   "outputs": [
    {
     "data": {
      "text/plain": [
       "36432"
      ]
     },
     "execution_count": 11,
     "metadata": {},
     "output_type": "execute_result"
    }
   ],
   "source": [
    "len(eeg_emg_bands['epochTime'])"
   ]
  },
  {
   "cell_type": "code",
   "execution_count": 12,
   "id": "4ef19040-2122-469a-b5f8-66311d53809c",
   "metadata": {},
   "outputs": [],
   "source": [
    "lfp_buz_features = loadmat('../rgs14/lfp_buz_features_rgs14.mat')"
   ]
  },
  {
   "cell_type": "code",
   "execution_count": 13,
   "id": "8ee22e76-ee55-4395-aad1-8f4760dec83a",
   "metadata": {
    "tags": []
   },
   "outputs": [
    {
     "data": {
      "text/plain": [
       "dict_keys(['__header__', '__version__', '__globals__', 'lfpFeatures'])"
      ]
     },
     "execution_count": 13,
     "metadata": {},
     "output_type": "execute_result"
    }
   ],
   "source": [
    "lfp_buz_features.keys()"
   ]
  },
  {
   "cell_type": "code",
   "execution_count": 14,
   "id": "dfd3185e-a086-4644-92e7-a255ad97de2c",
   "metadata": {},
   "outputs": [],
   "source": [
    "import pandas as pd\n",
    "import numpy as np\n",
    "\n",
    "lfp_matrix = np.array(lfp_buz_features['lfpFeatures'])\n",
    "\n",
    "numColumns = len(lfp_matrix[0])\n",
    "\n",
    "delta_pfc_df = pd.DataFrame(lfp_matrix[:, 0], columns=[\"DeltaPFC\"])\n",
    "theta_hpc_df = pd.DataFrame(lfp_matrix[:, 1], columns=[\"ThetaHPC\"])\n",
    "beta_pfc_df = pd.DataFrame(lfp_matrix[:, 2], columns=[\"BetaPFC\"])\n",
    "gamma_hpc_df = pd.DataFrame(lfp_matrix[:, 3], columns=[\"GammaHPC\"])\n",
    "emg_like_df = pd.DataFrame(lfp_matrix[:, 4], columns=[\"EMGLike\"])\n",
    "\n",
    "timesteps = 4216"
   ]
  },
  {
   "cell_type": "code",
   "execution_count": 15,
   "id": "6fa66a36-c3b1-4b96-9756-5afe46c1143b",
   "metadata": {
    "tags": []
   },
   "outputs": [],
   "source": [
    "delta_pfc_theta_hpc = delta_pfc_df['DeltaPFC'] / theta_hpc_df['ThetaHPC']\n",
    "delta_pfc_beta_pfc  = delta_pfc_df['DeltaPFC'] / beta_pfc_df['BetaPFC']\n",
    "delta_pfc_gamma_hpc = delta_pfc_df['DeltaPFC'] / gamma_hpc_df['GammaHPC']\n",
    "theta_hpc_beta_pfc  = theta_hpc_df['ThetaHPC'] / beta_pfc_df['BetaPFC']\n",
    "theta_hpc_gamma_hpc = theta_hpc_df['ThetaHPC'] / gamma_hpc_df['GammaHPC']\n",
    "beta_pfc_gamma_hpc  = beta_pfc_df['BetaPFC'] / gamma_hpc_df['GammaHPC']"
   ]
  },
  {
   "cell_type": "code",
   "execution_count": 16,
   "id": "b23b1c6f-be05-4c6c-8dfa-f001291ced32",
   "metadata": {
    "tags": []
   },
   "outputs": [
    {
     "data": {
      "text/plain": [
       "(36432, 11)"
      ]
     },
     "execution_count": 16,
     "metadata": {},
     "output_type": "execute_result"
    }
   ],
   "source": [
    "eeg_emg_bands['d'].shape"
   ]
  },
  {
   "cell_type": "code",
   "execution_count": 17,
   "id": "7a14a9e0-edab-4a67-bd62-9bd1b69a60bc",
   "metadata": {
    "tags": []
   },
   "outputs": [],
   "source": [
    "rgs_14_bands = np.column_stack([\n",
    "    delta_pfc_theta_hpc, \n",
    "    delta_pfc_beta_pfc, \n",
    "    delta_pfc_gamma_hpc, \n",
    "    theta_hpc_beta_pfc, \n",
    "    theta_hpc_gamma_hpc,\n",
    "    beta_pfc_gamma_hpc,\n",
    "    emg_like_df.EMGLike\n",
    "])"
   ]
  },
  {
   "cell_type": "code",
   "execution_count": 18,
   "id": "c53148ed-bd87-4a5d-8baf-e8c69598506f",
   "metadata": {},
   "outputs": [
    {
     "data": {
      "text/plain": [
       "array([[0.36091171, 0.48330075, 0.47004354, ..., 1.30237819, 0.97256945,\n",
       "        0.8007592 ],\n",
       "       [0.44655373, 0.58461009, 0.5890688 , ..., 1.31914428, 1.00762681,\n",
       "        0.79285198],\n",
       "       [0.54187165, 0.69228439, 0.72560372, ..., 1.33906936, 1.04812954,\n",
       "        0.80440521],\n",
       "       ...,\n",
       "       [6.28698113, 0.84385264, 0.42591768, ..., 0.06774598, 0.50472993,\n",
       "        0.07370505],\n",
       "       [6.97536932, 0.74219795, 0.38028943, ..., 0.0545189 , 0.51238276,\n",
       "        0.09134548],\n",
       "       [8.22567374, 0.64598561, 0.33922455, ..., 0.04123973, 0.52512709,\n",
       "        0.09731904]])"
      ]
     },
     "execution_count": 18,
     "metadata": {},
     "output_type": "execute_result"
    }
   ],
   "source": [
    "rgs_14_bands"
   ]
  },
  {
   "cell_type": "code",
   "execution_count": 19,
   "id": "bbc78948-64aa-45c9-8bba-a66b9457b9c7",
   "metadata": {
    "tags": []
   },
   "outputs": [
    {
     "data": {
      "text/plain": [
       "dtype('float64')"
      ]
     },
     "execution_count": 19,
     "metadata": {},
     "output_type": "execute_result"
    }
   ],
   "source": [
    "rgs_14_bands.dtype"
   ]
  },
  {
   "cell_type": "code",
   "execution_count": 20,
   "id": "7d153390-2019-495f-8857-52a20d9d205b",
   "metadata": {
    "tags": []
   },
   "outputs": [
    {
     "data": {
      "text/plain": [
       "array([[-0.7700516 , -0.3760239 , -0.683785  , ..., -0.5382018 ,\n",
       "        -0.23044461,  0.19272518],\n",
       "       [ 0.7632049 ,  0.43585336,  0.1796093 , ..., -0.87780964,\n",
       "        -0.62156934,  0.10145473],\n",
       "       [-0.00528526,  0.23130655, -0.25944912, ..., -0.02930842,\n",
       "         0.46144333,  0.49312115],\n",
       "       ...,\n",
       "       [ 0.21864802,  0.40962934,  0.10500968, ...,  0.50173366,\n",
       "         0.8063495 , -0.62143993],\n",
       "       [ 0.35620993, -0.19546735,  0.3797109 , ...,  0.9357698 ,\n",
       "         0.36058757, -0.62169456],\n",
       "       [-0.08637416, -1.0785775 , -0.44793767, ...,  1.3306514 ,\n",
       "         0.7000077 , -0.64962673]], dtype=float32)"
      ]
     },
     "execution_count": 20,
     "metadata": {},
     "output_type": "execute_result"
    }
   ],
   "source": [
    "eeg_emg_bands['d']"
   ]
  },
  {
   "cell_type": "code",
   "execution_count": 21,
   "id": "cf35dac1-7390-47e5-a68a-1f2d481a69e3",
   "metadata": {
    "tags": []
   },
   "outputs": [
    {
     "data": {
      "text/plain": [
       "array([[    0,     0,     1,    61],\n",
       "       [    1,     1,     1,    61],\n",
       "       [    2,     2,     1,    61],\n",
       "       ...,\n",
       "       [16197, 37407,     2,    61],\n",
       "       [16198, 37408,     2,    61],\n",
       "       [16199, 37409,     2,    61]], dtype=int32)"
      ]
     },
     "execution_count": 21,
     "metadata": {},
     "output_type": "execute_result"
    }
   ],
   "source": [
    "eeg_emg_bands['epochsLinked']"
   ]
  },
  {
   "cell_type": "code",
   "execution_count": 22,
   "id": "da6f073d-acce-41f6-beba-e7752d44d2d2",
   "metadata": {
    "tags": []
   },
   "outputs": [
    {
     "data": {
      "text/plain": [
       "36432"
      ]
     },
     "execution_count": 22,
     "metadata": {},
     "output_type": "execute_result"
    }
   ],
   "source": [
    "len(eeg_emg_bands['epochsLinked'])"
   ]
  },
  {
   "cell_type": "code",
   "execution_count": 23,
   "id": "9de5046e-0fea-441d-8229-79d214cefa62",
   "metadata": {
    "tags": []
   },
   "outputs": [
    {
     "data": {
      "text/plain": [
       "(36432, 4)"
      ]
     },
     "execution_count": 23,
     "metadata": {},
     "output_type": "execute_result"
    }
   ],
   "source": [
    "eeg_emg_bands['epochsLinked'].shape"
   ]
  },
  {
   "cell_type": "code",
   "execution_count": 24,
   "id": "b7aada74-b7b8-4a7f-b383-71a01ef7fef1",
   "metadata": {
    "tags": []
   },
   "outputs": [
    {
     "data": {
      "text/plain": [
       "array([[    0,     0,     1,    61],\n",
       "       [    1,     1,     1,    61],\n",
       "       [    2,     2,     1,    61],\n",
       "       ...,\n",
       "       [16197, 37407,     2,    61],\n",
       "       [16198, 37408,     2,    61],\n",
       "       [16199, 37409,     2,    61]], dtype=int32)"
      ]
     },
     "execution_count": 24,
     "metadata": {},
     "output_type": "execute_result"
    }
   ],
   "source": [
    "eeg_emg_bands['epochsLinked']"
   ]
  },
  {
   "cell_type": "code",
   "execution_count": 25,
   "id": "0b0bb34a-7454-42b1-ab8b-85968a2afae9",
   "metadata": {
    "tags": []
   },
   "outputs": [
    {
     "data": {
      "text/plain": [
       "array([ 0,  0,  1, 61], dtype=int32)"
      ]
     },
     "execution_count": 25,
     "metadata": {},
     "output_type": "execute_result"
    }
   ],
   "source": [
    "eeg_emg_bands['epochsLinked'][0]"
   ]
  },
  {
   "cell_type": "code",
   "execution_count": 26,
   "id": "72ba30bd-ccac-418d-bafa-a0a1d58d7faf",
   "metadata": {
    "tags": []
   },
   "outputs": [],
   "source": [
    "epoch_ids = np.arange(4216)"
   ]
  },
  {
   "cell_type": "code",
   "execution_count": 27,
   "id": "4706a629-6a31-40a6-8506-75f15670335c",
   "metadata": {
    "tags": []
   },
   "outputs": [
    {
     "data": {
      "text/plain": [
       "array([   0,    1,    2, ..., 4213, 4214, 4215])"
      ]
     },
     "execution_count": 27,
     "metadata": {},
     "output_type": "execute_result"
    }
   ],
   "source": [
    "epoch_ids"
   ]
  },
  {
   "cell_type": "code",
   "execution_count": null,
   "id": "845e8df0-a822-48e1-81bf-b2b4862fef3d",
   "metadata": {},
   "outputs": [],
   "source": []
  }
 ],
 "metadata": {
  "kernelspec": {
   "display_name": "sleep-scoring-venv",
   "language": "python",
   "name": "sleep-scoring-venv"
  },
  "language_info": {
   "codemirror_mode": {
    "name": "ipython",
    "version": 3
   },
   "file_extension": ".py",
   "mimetype": "text/x-python",
   "name": "python",
   "nbconvert_exporter": "python",
   "pygments_lexer": "ipython3",
   "version": "3.10.4"
  }
 },
 "nbformat": 4,
 "nbformat_minor": 5
}
