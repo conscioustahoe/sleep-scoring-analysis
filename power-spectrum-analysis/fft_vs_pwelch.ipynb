{
 "cells": [
  {
   "cell_type": "markdown",
   "id": "1623c5ae-d9ec-4dfe-837e-2f70ac7fc940",
   "metadata": {},
   "source": [
    "# FFT vs Pwelch\n",
    "\n",
    "Fast Fourier Transform is a widely used mathematical technique in signal processing and other fields to analyze and transform signals from the time domain to the frequency domain.\n",
    "\n",
    "**FFT is primarily used for frequency analysis**: It decomposes a signal into its constituent sinusoidal components at different frequencies. This is valuable for understanding the frequency content of a signal and identifying dominant frequencies or harmonics.\n",
    "\n",
    "**Time-Domain to Frequency-Domain Transformation**: In the time domain, signals are represented as a function of time. FFT transforms this signal into the frequency domain, where it is represented as a function of frequency. This transformation is essential for various applications, including audio processing, image analysis, and vibration analysis.\n",
    "\n",
    "**Spectrum Analysis**: The result of an FFT operation is often called a \"frequency spectrum.\" This spectrum provides information about the amplitude and phase of the sinusoidal components present in the signal at different frequencies. It helps identify peaks in the spectrum, indicating the dominant frequencies in the signal.\n",
    "\n",
    "\n",
    "\n",
    "**pwelch** stands for \"Power Spectral Density (PSD) Estimate via Welch's Method,\", it is used when you want to estimate the distribution of power in a signal as a function of frequency.\n",
    "\n",
    "**Power Spectral Density (PSD)**: The power spectral density is a measure of how the power of a signal is distributed across different frequencies. It provides information about the signal's frequency content. In essence, it tells you how much power the signal contains at various frequencies.\n",
    "\n",
    "**Welch's Method**: Welch's method is a technique for estimating the PSD of a signal from a finite set of data points. It divides the input signal into overlapping segments, computes the periodogram (the squared magnitude of the Fourier transform) for each segment, and then averages these periodograms to obtain a smoother estimate of the PSD."
   ]
  },
  {
   "cell_type": "code",
   "execution_count": 1,
   "id": "6f39cdb0-109f-4cb7-80e8-70740ef762ee",
   "metadata": {
    "tags": []
   },
   "outputs": [],
   "source": [
    "from scipy.io import loadmat\n",
    "hpc_continuous = loadmat('continuous/post_trial5_2017-11-15_14-04-39/HPC_100_CH31.continuous.mat')\n",
    "pfc_continuous = loadmat('continuous/post_trial5_2017-11-15_14-04-39/PFC_100_CH49.continuous.mat')"
   ]
  },
  {
   "cell_type": "code",
   "execution_count": 2,
   "id": "49d7bbbd-9ac3-421d-bea2-b9b4acc279a2",
   "metadata": {
    "tags": []
   },
   "outputs": [
    {
     "data": {
      "text/plain": [
       "dict_keys(['__header__', '__version__', '__globals__', 'HPC'])"
      ]
     },
     "execution_count": 2,
     "metadata": {},
     "output_type": "execute_result"
    }
   ],
   "source": [
    "hpc_continuous.keys()"
   ]
  },
  {
   "cell_type": "code",
   "execution_count": 3,
   "id": "587637ea-0179-4ae1-82cf-461ab8e6aec8",
   "metadata": {
    "tags": []
   },
   "outputs": [
    {
     "data": {
      "text/plain": [
       "dict_keys(['__header__', '__version__', '__globals__', 'PFC'])"
      ]
     },
     "execution_count": 3,
     "metadata": {},
     "output_type": "execute_result"
    }
   ],
   "source": [
    "pfc_continuous.keys()"
   ]
  },
  {
   "cell_type": "code",
   "execution_count": 4,
   "id": "f936dd43-0e52-4c16-87dc-35585751c671",
   "metadata": {
    "tags": []
   },
   "outputs": [],
   "source": [
    "hpc_signal = hpc_continuous['HPC'].flatten()\n",
    "pfc_signal = pfc_continuous['PFC'].flatten()"
   ]
  },
  {
   "cell_type": "code",
   "execution_count": 5,
   "id": "1e2453a6-4765-477f-a051-58690db98caf",
   "metadata": {
    "tags": []
   },
   "outputs": [
    {
     "data": {
      "text/plain": [
       "array([ 3.11470781e+02,  2.83210665e+02,  2.52819977e+02, ...,\n",
       "       -4.01498726e-13,  9.54514897e-14, -1.87714591e-14])"
      ]
     },
     "execution_count": 5,
     "metadata": {},
     "output_type": "execute_result"
    }
   ],
   "source": [
    "hpc_signal"
   ]
  },
  {
   "cell_type": "code",
   "execution_count": 6,
   "id": "d138cfed-4ec9-40ad-9194-b8207a68d65c",
   "metadata": {
    "tags": []
   },
   "outputs": [
    {
     "data": {
      "text/plain": [
       "array([ 2.53778241e+02,  1.97437266e+02,  1.61079461e+02, ...,\n",
       "       -8.68411573e-12,  1.60962475e-12, -2.25999871e-13])"
      ]
     },
     "execution_count": 6,
     "metadata": {},
     "output_type": "execute_result"
    }
   ],
   "source": [
    "pfc_signal"
   ]
  },
  {
   "cell_type": "markdown",
   "id": "5e2e9f26-9445-41fd-ac1c-065a153d209a",
   "metadata": {},
   "source": [
    "## FFT Analysis"
   ]
  },
  {
   "cell_type": "code",
   "execution_count": 7,
   "id": "5528f6bf-8a45-41e9-b283-1b30667498fd",
   "metadata": {
    "tags": []
   },
   "outputs": [],
   "source": [
    "import numpy as np\n",
    "\n",
    "fft_result = np.fft.fft(hpc_signal)"
   ]
  },
  {
   "cell_type": "markdown",
   "id": "8e1dd117-a315-4c03-aaa4-95c82a12b1e2",
   "metadata": {},
   "source": [
    "The fft_result will contain the complex-valued Fourier coefficients. If you are interested in the magnitude (power) of the FFT, you can calculate it as follows:"
   ]
  },
  {
   "cell_type": "code",
   "execution_count": 8,
   "id": "9c2b2c29-ff27-4049-828c-397c698362a8",
   "metadata": {
    "tags": []
   },
   "outputs": [],
   "source": [
    "fft_magnitude = np.abs(fft_result)"
   ]
  },
  {
   "cell_type": "markdown",
   "id": "909225b2-4c50-460c-8e32-2fc0374ee738",
   "metadata": {
    "tags": []
   },
   "source": [
    "Create a frequency axis to associate frequencies with the FFT result. You can use `fft.fftfreq` function for this purpose."
   ]
  },
  {
   "cell_type": "code",
   "execution_count": 9,
   "id": "3b81f417-416c-475d-9df5-73814f96ca41",
   "metadata": {
    "tags": []
   },
   "outputs": [],
   "source": [
    "N = len(hpc_signal)\n",
    "sampling_rate = 2500 \n",
    "\n",
    "freq_axis = np.fft.fftfreq(N, 1.0 / sampling_rate)"
   ]
  },
  {
   "cell_type": "markdown",
   "id": "fff5526f-fa98-44af-a9f6-f6fa3bdd2864",
   "metadata": {},
   "source": [
    "## Visualize the FFT result"
   ]
  },
  {
   "cell_type": "code",
   "execution_count": 10,
   "id": "01a9a03f-2405-4189-b7a7-0bc70d1ce93d",
   "metadata": {
    "tags": []
   },
   "outputs": [
    {
     "data": {
      "image/png": "[encoded data removed]",
      "text/plain": [
       "<Figure size 720x432 with 1 Axes>"
      ]
     },
     "metadata": {
      "needs_background": "light"
     },
     "output_type": "display_data"
    }
   ],
   "source": [
    "import matplotlib.pyplot as plt\n",
    "\n",
    "plt.figure(figsize=(10, 6))\n",
    "plt.plot(freq_axis, fft_magnitude)\n",
    "plt.xlabel('Frequency (Hz)')\n",
    "plt.ylabel('Magnitude')\n",
    "plt.title('FFT of HPC Signal')\n",
    "plt.grid()\n",
    "plt.show()"
   ]
  },
  {
   "cell_type": "markdown",
   "id": "77cb3413-ca96-4bb2-b846-2583c0723a85",
   "metadata": {},
   "source": [
    "## Pwelch Analysis\n",
    "\n",
    "Use the `scipy.signal.welch` function to estimate the PSD of your HPC data. You can specify parameters such as the window type, overlap, and number of frequency bins."
   ]
  },
  {
   "cell_type": "code",
   "execution_count": 11,
   "id": "b8ab0ed6-cff2-4e60-b562-bb50dbbb14b0",
   "metadata": {
    "tags": []
   },
   "outputs": [
    {
     "ename": "ValueError",
     "evalue": "noverlap must be less than nperseg.",
     "output_type": "error",
     "traceback": [
      "\u001b[0;31m---------------------------------------------------------------------------\u001b[0m",
      "\u001b[0;31mValueError\u001b[0m                                Traceback (most recent call last)",
      "Input \u001b[0;32mIn [11]\u001b[0m, in \u001b[0;36m<cell line: 8>\u001b[0;34m()\u001b[0m\n\u001b[1;32m      5\u001b[0m noverlap \u001b[38;5;241m=\u001b[39m \u001b[38;5;241m2500\u001b[39m  \u001b[38;5;66;03m# Overlap between segments\u001b[39;00m\n\u001b[1;32m      6\u001b[0m window \u001b[38;5;241m=\u001b[39m \u001b[38;5;124m'\u001b[39m\u001b[38;5;124mhamming\u001b[39m\u001b[38;5;124m'\u001b[39m  \u001b[38;5;66;03m# Window function (e.g., 'hamming', 'hann', 'blackman')\u001b[39;00m\n\u001b[0;32m----> 8\u001b[0m frequencies, psd \u001b[38;5;241m=\u001b[39m \u001b[43msignal\u001b[49m\u001b[38;5;241;43m.\u001b[39;49m\u001b[43mwelch\u001b[49m\u001b[43m(\u001b[49m\u001b[43mhpc_signal\u001b[49m\u001b[43m,\u001b[49m\u001b[43m \u001b[49m\u001b[43mfs\u001b[49m\u001b[38;5;241;43m=\u001b[39;49m\u001b[43mfs\u001b[49m\u001b[43m,\u001b[49m\u001b[43m \u001b[49m\u001b[43mnperseg\u001b[49m\u001b[38;5;241;43m=\u001b[39;49m\u001b[43mnperseg\u001b[49m\u001b[43m,\u001b[49m\u001b[43m \u001b[49m\u001b[43mnoverlap\u001b[49m\u001b[38;5;241;43m=\u001b[39;49m\u001b[43mnoverlap\u001b[49m\u001b[43m,\u001b[49m\u001b[43m \u001b[49m\u001b[43mwindow\u001b[49m\u001b[38;5;241;43m=\u001b[39;49m\u001b[43mwindow\u001b[49m\u001b[43m)\u001b[49m\n",
      "File \u001b[0;32m~/anaconda3/envs/sleep-scoring-venv/lib/python3.10/site-packages/scipy/signal/_spectral_py.py:455\u001b[0m, in \u001b[0;36mwelch\u001b[0;34m(x, fs, window, nperseg, noverlap, nfft, detrend, return_onesided, scaling, axis, average)\u001b[0m\n\u001b[1;32m    297\u001b[0m \u001b[38;5;28;01mdef\u001b[39;00m \u001b[38;5;21mwelch\u001b[39m(x, fs\u001b[38;5;241m=\u001b[39m\u001b[38;5;241m1.0\u001b[39m, window\u001b[38;5;241m=\u001b[39m\u001b[38;5;124m'\u001b[39m\u001b[38;5;124mhann\u001b[39m\u001b[38;5;124m'\u001b[39m, nperseg\u001b[38;5;241m=\u001b[39m\u001b[38;5;28;01mNone\u001b[39;00m, noverlap\u001b[38;5;241m=\u001b[39m\u001b[38;5;28;01mNone\u001b[39;00m, nfft\u001b[38;5;241m=\u001b[39m\u001b[38;5;28;01mNone\u001b[39;00m,\n\u001b[1;32m    298\u001b[0m           detrend\u001b[38;5;241m=\u001b[39m\u001b[38;5;124m'\u001b[39m\u001b[38;5;124mconstant\u001b[39m\u001b[38;5;124m'\u001b[39m, return_onesided\u001b[38;5;241m=\u001b[39m\u001b[38;5;28;01mTrue\u001b[39;00m, scaling\u001b[38;5;241m=\u001b[39m\u001b[38;5;124m'\u001b[39m\u001b[38;5;124mdensity\u001b[39m\u001b[38;5;124m'\u001b[39m,\n\u001b[1;32m    299\u001b[0m           axis\u001b[38;5;241m=\u001b[39m\u001b[38;5;241m-\u001b[39m\u001b[38;5;241m1\u001b[39m, average\u001b[38;5;241m=\u001b[39m\u001b[38;5;124m'\u001b[39m\u001b[38;5;124mmean\u001b[39m\u001b[38;5;124m'\u001b[39m):\n\u001b[1;32m    300\u001b[0m     \u001b[38;5;124mr\u001b[39m\u001b[38;5;124;03m\"\"\"\u001b[39;00m\n\u001b[1;32m    301\u001b[0m \u001b[38;5;124;03m    Estimate power spectral density using Welch's method.\u001b[39;00m\n\u001b[1;32m    302\u001b[0m \n\u001b[0;32m   (...)\u001b[0m\n\u001b[1;32m    453\u001b[0m \n\u001b[1;32m    454\u001b[0m \u001b[38;5;124;03m    \"\"\"\u001b[39;00m\n\u001b[0;32m--> 455\u001b[0m     freqs, Pxx \u001b[38;5;241m=\u001b[39m \u001b[43mcsd\u001b[49m\u001b[43m(\u001b[49m\u001b[43mx\u001b[49m\u001b[43m,\u001b[49m\u001b[43m \u001b[49m\u001b[43mx\u001b[49m\u001b[43m,\u001b[49m\u001b[43m \u001b[49m\u001b[43mfs\u001b[49m\u001b[38;5;241;43m=\u001b[39;49m\u001b[43mfs\u001b[49m\u001b[43m,\u001b[49m\u001b[43m \u001b[49m\u001b[43mwindow\u001b[49m\u001b[38;5;241;43m=\u001b[39;49m\u001b[43mwindow\u001b[49m\u001b[43m,\u001b[49m\u001b[43m \u001b[49m\u001b[43mnperseg\u001b[49m\u001b[38;5;241;43m=\u001b[39;49m\u001b[43mnperseg\u001b[49m\u001b[43m,\u001b[49m\n\u001b[1;32m    456\u001b[0m \u001b[43m                     \u001b[49m\u001b[43mnoverlap\u001b[49m\u001b[38;5;241;43m=\u001b[39;49m\u001b[43mnoverlap\u001b[49m\u001b[43m,\u001b[49m\u001b[43m \u001b[49m\u001b[43mnfft\u001b[49m\u001b[38;5;241;43m=\u001b[39;49m\u001b[43mnfft\u001b[49m\u001b[43m,\u001b[49m\u001b[43m \u001b[49m\u001b[43mdetrend\u001b[49m\u001b[38;5;241;43m=\u001b[39;49m\u001b[43mdetrend\u001b[49m\u001b[43m,\u001b[49m\n\u001b[1;32m    457\u001b[0m \u001b[43m                     \u001b[49m\u001b[43mreturn_onesided\u001b[49m\u001b[38;5;241;43m=\u001b[39;49m\u001b[43mreturn_onesided\u001b[49m\u001b[43m,\u001b[49m\u001b[43m \u001b[49m\u001b[43mscaling\u001b[49m\u001b[38;5;241;43m=\u001b[39;49m\u001b[43mscaling\u001b[49m\u001b[43m,\u001b[49m\n\u001b[1;32m    458\u001b[0m \u001b[43m                     \u001b[49m\u001b[43maxis\u001b[49m\u001b[38;5;241;43m=\u001b[39;49m\u001b[43maxis\u001b[49m\u001b[43m,\u001b[49m\u001b[43m \u001b[49m\u001b[43maverage\u001b[49m\u001b[38;5;241;43m=\u001b[39;49m\u001b[43maverage\u001b[49m\u001b[43m)\u001b[49m\n\u001b[1;32m    460\u001b[0m     \u001b[38;5;28;01mreturn\u001b[39;00m freqs, Pxx\u001b[38;5;241m.\u001b[39mreal\n",
      "File \u001b[0;32m~/anaconda3/envs/sleep-scoring-venv/lib/python3.10/site-packages/scipy/signal/_spectral_py.py:590\u001b[0m, in \u001b[0;36mcsd\u001b[0;34m(x, y, fs, window, nperseg, noverlap, nfft, detrend, return_onesided, scaling, axis, average)\u001b[0m\n\u001b[1;32m    463\u001b[0m \u001b[38;5;28;01mdef\u001b[39;00m \u001b[38;5;21mcsd\u001b[39m(x, y, fs\u001b[38;5;241m=\u001b[39m\u001b[38;5;241m1.0\u001b[39m, window\u001b[38;5;241m=\u001b[39m\u001b[38;5;124m'\u001b[39m\u001b[38;5;124mhann\u001b[39m\u001b[38;5;124m'\u001b[39m, nperseg\u001b[38;5;241m=\u001b[39m\u001b[38;5;28;01mNone\u001b[39;00m, noverlap\u001b[38;5;241m=\u001b[39m\u001b[38;5;28;01mNone\u001b[39;00m, nfft\u001b[38;5;241m=\u001b[39m\u001b[38;5;28;01mNone\u001b[39;00m,\n\u001b[1;32m    464\u001b[0m         detrend\u001b[38;5;241m=\u001b[39m\u001b[38;5;124m'\u001b[39m\u001b[38;5;124mconstant\u001b[39m\u001b[38;5;124m'\u001b[39m, return_onesided\u001b[38;5;241m=\u001b[39m\u001b[38;5;28;01mTrue\u001b[39;00m, scaling\u001b[38;5;241m=\u001b[39m\u001b[38;5;124m'\u001b[39m\u001b[38;5;124mdensity\u001b[39m\u001b[38;5;124m'\u001b[39m,\n\u001b[1;32m    465\u001b[0m         axis\u001b[38;5;241m=\u001b[39m\u001b[38;5;241m-\u001b[39m\u001b[38;5;241m1\u001b[39m, average\u001b[38;5;241m=\u001b[39m\u001b[38;5;124m'\u001b[39m\u001b[38;5;124mmean\u001b[39m\u001b[38;5;124m'\u001b[39m):\n\u001b[1;32m    466\u001b[0m     \u001b[38;5;124mr\u001b[39m\u001b[38;5;124;03m\"\"\"\u001b[39;00m\n\u001b[1;32m    467\u001b[0m \u001b[38;5;124;03m    Estimate the cross power spectral density, Pxy, using Welch's method.\u001b[39;00m\n\u001b[1;32m    468\u001b[0m \n\u001b[0;32m   (...)\u001b[0m\n\u001b[1;32m    588\u001b[0m \n\u001b[1;32m    589\u001b[0m \u001b[38;5;124;03m    \"\"\"\u001b[39;00m\n\u001b[0;32m--> 590\u001b[0m     freqs, _, Pxy \u001b[38;5;241m=\u001b[39m \u001b[43m_spectral_helper\u001b[49m\u001b[43m(\u001b[49m\u001b[43mx\u001b[49m\u001b[43m,\u001b[49m\u001b[43m \u001b[49m\u001b[43my\u001b[49m\u001b[43m,\u001b[49m\u001b[43m \u001b[49m\u001b[43mfs\u001b[49m\u001b[43m,\u001b[49m\u001b[43m \u001b[49m\u001b[43mwindow\u001b[49m\u001b[43m,\u001b[49m\u001b[43m \u001b[49m\u001b[43mnperseg\u001b[49m\u001b[43m,\u001b[49m\u001b[43m \u001b[49m\u001b[43mnoverlap\u001b[49m\u001b[43m,\u001b[49m\u001b[43m \u001b[49m\u001b[43mnfft\u001b[49m\u001b[43m,\u001b[49m\n\u001b[1;32m    591\u001b[0m \u001b[43m                                     \u001b[49m\u001b[43mdetrend\u001b[49m\u001b[43m,\u001b[49m\u001b[43m \u001b[49m\u001b[43mreturn_onesided\u001b[49m\u001b[43m,\u001b[49m\u001b[43m \u001b[49m\u001b[43mscaling\u001b[49m\u001b[43m,\u001b[49m\u001b[43m \u001b[49m\u001b[43maxis\u001b[49m\u001b[43m,\u001b[49m\n\u001b[1;32m    592\u001b[0m \u001b[43m                                     \u001b[49m\u001b[43mmode\u001b[49m\u001b[38;5;241;43m=\u001b[39;49m\u001b[38;5;124;43m'\u001b[39;49m\u001b[38;5;124;43mpsd\u001b[39;49m\u001b[38;5;124;43m'\u001b[39;49m\u001b[43m)\u001b[49m\n\u001b[1;32m    594\u001b[0m     \u001b[38;5;66;03m# Average over windows.\u001b[39;00m\n\u001b[1;32m    595\u001b[0m     \u001b[38;5;28;01mif\u001b[39;00m \u001b[38;5;28mlen\u001b[39m(Pxy\u001b[38;5;241m.\u001b[39mshape) \u001b[38;5;241m>\u001b[39m\u001b[38;5;241m=\u001b[39m \u001b[38;5;241m2\u001b[39m \u001b[38;5;129;01mand\u001b[39;00m Pxy\u001b[38;5;241m.\u001b[39msize \u001b[38;5;241m>\u001b[39m \u001b[38;5;241m0\u001b[39m:\n",
      "File \u001b[0;32m~/anaconda3/envs/sleep-scoring-venv/lib/python3.10/site-packages/scipy/signal/_spectral_py.py:1812\u001b[0m, in \u001b[0;36m_spectral_helper\u001b[0;34m(x, y, fs, window, nperseg, noverlap, nfft, detrend, return_onesided, scaling, axis, mode, boundary, padded)\u001b[0m\n\u001b[1;32m   1810\u001b[0m     noverlap \u001b[38;5;241m=\u001b[39m \u001b[38;5;28mint\u001b[39m(noverlap)\n\u001b[1;32m   1811\u001b[0m \u001b[38;5;28;01mif\u001b[39;00m noverlap \u001b[38;5;241m>\u001b[39m\u001b[38;5;241m=\u001b[39m nperseg:\n\u001b[0;32m-> 1812\u001b[0m     \u001b[38;5;28;01mraise\u001b[39;00m \u001b[38;5;167;01mValueError\u001b[39;00m(\u001b[38;5;124m'\u001b[39m\u001b[38;5;124mnoverlap must be less than nperseg.\u001b[39m\u001b[38;5;124m'\u001b[39m)\n\u001b[1;32m   1813\u001b[0m nstep \u001b[38;5;241m=\u001b[39m nperseg \u001b[38;5;241m-\u001b[39m noverlap\n\u001b[1;32m   1815\u001b[0m \u001b[38;5;66;03m# Padding occurs after boundary extension, so that the extended signal ends\u001b[39;00m\n\u001b[1;32m   1816\u001b[0m \u001b[38;5;66;03m# in zeros, instead of introducing an impulse at the end.\u001b[39;00m\n\u001b[1;32m   1817\u001b[0m \u001b[38;5;66;03m# I.e. if x = [..., 3, 2]\u001b[39;00m\n\u001b[1;32m   1818\u001b[0m \u001b[38;5;66;03m# extend then pad -> [..., 3, 2, 2, 3, 0, 0, 0]\u001b[39;00m\n\u001b[1;32m   1819\u001b[0m \u001b[38;5;66;03m# pad then extend -> [..., 3, 2, 0, 0, 0, 2, 3]\u001b[39;00m\n",
      "\u001b[0;31mValueError\u001b[0m: noverlap must be less than nperseg."
     ]
    }
   ],
   "source": [
    "from scipy import signal\n",
    "\n",
    "fs = 2500\n",
    "nperseg = 256  # Length of each segment\n",
    "noverlap = 128  # Overlap between segments\n",
    "window = 'hamming'  # Window function (e.g., 'hamming', 'hann', 'blackman')\n",
    "\n",
    "frequencies, psd = signal.welch(hpc_signal, fs=fs, nperseg=nperseg, noverlap=noverlap, window=window)"
   ]
  },
  {
   "cell_type": "markdown",
   "id": "a6fc0ef4-0232-47d3-9526-b8f398b843f2",
   "metadata": {},
   "source": [
    "## Visualize the Pwelch result"
   ]
  },
  {
   "cell_type": "code",
   "execution_count": 12,
   "id": "29c1f15a-5595-4215-ae3f-2d0a40ea7bf8",
   "metadata": {
    "tags": []
   },
   "outputs": [
    {
     "data": {
      "image/png": "[encoded data removed]",
      "text/plain": [
       "<Figure size 720x432 with 1 Axes>"
      ]
     },
     "metadata": {
      "needs_background": "light"
     },
     "output_type": "display_data"
    }
   ],
   "source": [
    "plt.figure(figsize=(10, 6))\n",
    "plt.semilogy(frequencies, psd)\n",
    "plt.xlabel('Frequency (Hz)')\n",
    "plt.ylabel('PSD (Power/Frequency)')\n",
    "plt.title('Power Spectral Density (PSD) Estimate of HPC')\n",
    "plt.grid()\n",
    "plt.show()"
   ]
  },
  {
   "cell_type": "code",
   "execution_count": null,
   "id": "830bdf5a-a3af-420a-b75a-2f605425e118",
   "metadata": {},
   "outputs": [],
   "source": []
  }
 ],
 "metadata": {
  "kernelspec": {
   "display_name": "sleep-scoring-venv",
   "language": "python",
   "name": "sleep-scoring-venv"
  },
  "language_info": {
   "codemirror_mode": {
    "name": "ipython",
    "version": 3
   },
   "file_extension": ".py",
   "mimetype": "text/x-python",
   "name": "python",
   "nbconvert_exporter": "python",
   "pygments_lexer": "ipython3",
   "version": "3.10.4"
  }
 },
 "nbformat": 4,
 "nbformat_minor": 5
}
