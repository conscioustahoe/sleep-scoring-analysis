{
 "cells": [
  {
   "cell_type": "code",
   "execution_count": 1,
   "id": "1314c569-4389-4fd9-83a7-eb5cc82904cd",
   "metadata": {
    "tags": []
   },
   "outputs": [],
   "source": [
    "from scipy.io import loadmat\n",
    "lfp_buz_features = loadmat('lfp_buz_features_rgs14.mat')"
   ]
  },
  {
   "cell_type": "markdown",
   "id": "94ed5e89-a7eb-4aa6-842e-ad46fdf755bf",
   "metadata": {},
   "source": [
    "## EEG Bands and EMG Like Signals"
   ]
  },
  {
   "cell_type": "code",
   "execution_count": 2,
   "id": "42821588-cb4b-483c-9fa4-14f0141de6cf",
   "metadata": {
    "tags": []
   },
   "outputs": [],
   "source": [
    "import pandas as pd\n",
    "import numpy as np\n",
    "\n",
    "lfp_matrix = np.array(lfp_buz_features['lfpFeatures'])\n",
    "\n",
    "numColumns = len(lfp_matrix[0])\n",
    "\n",
    "delta_pfc_df = pd.DataFrame(lfp_matrix[:, 0], columns=[\"DeltaPFC\"])\n",
    "theta_hpc_df = pd.DataFrame(lfp_matrix[:, 1], columns=[\"ThetaHPC\"])\n",
    "beta_pfc_df = pd.DataFrame(lfp_matrix[:, 2], columns=[\"BetaPFC\"])\n",
    "gamma_hpc_df = pd.DataFrame(lfp_matrix[:, 3], columns=[\"GammaHPC\"])\n",
    "emg_like_df = pd.DataFrame(lfp_matrix[:, 4], columns=[\"EMGLike\"])\n",
    "\n",
    "timesteps = 4216"
   ]
  },
  {
   "cell_type": "code",
   "execution_count": 3,
   "id": "aaee2967-e260-4201-ba54-5bfac9ad333e",
   "metadata": {
    "tags": []
   },
   "outputs": [],
   "source": [
    "delta_pfc_theta_hpc = delta_pfc_df['DeltaPFC'] / theta_hpc_df['ThetaHPC']\n",
    "delta_pfc_beta_pfc  = delta_pfc_df['DeltaPFC'] / beta_pfc_df['BetaPFC']\n",
    "delta_pfc_gamma_hpc = delta_pfc_df['DeltaPFC'] / gamma_hpc_df['GammaHPC']\n",
    "theta_hpc_beta_pfc  = theta_hpc_df['ThetaHPC'] / beta_pfc_df['BetaPFC']\n",
    "theta_hpc_gamma_hpc = theta_hpc_df['ThetaHPC'] / gamma_hpc_df['GammaHPC']\n",
    "beta_pfc_gamma_hpc  = beta_pfc_df['BetaPFC'] / gamma_hpc_df['GammaHPC']"
   ]
  },
  {
   "cell_type": "markdown",
   "id": "629abaa1-8a95-49a6-be74-c1b21f193fa4",
   "metadata": {},
   "source": [
    "## Bands\n",
    "- Nx7 data array, where N is the number of epochs, and columns refer to all possible ratios between the EEG bands & the EMG, with EMG being associated with the last column"
   ]
  },
  {
   "cell_type": "code",
   "execution_count": 4,
   "id": "1c763dfb-6986-4f3d-bd22-7a766c9773bb",
   "metadata": {
    "tags": []
   },
   "outputs": [],
   "source": [
    "rgs_14_bands = np.column_stack([\n",
    "    delta_pfc_theta_hpc, \n",
    "    delta_pfc_beta_pfc, \n",
    "    delta_pfc_gamma_hpc, \n",
    "    theta_hpc_beta_pfc, \n",
    "    theta_hpc_gamma_hpc,\n",
    "    beta_pfc_gamma_hpc,\n",
    "    emg_like_df.EMGLike\n",
    "])"
   ]
  },
  {
   "cell_type": "code",
   "execution_count": 5,
   "id": "d8f0b74b-019e-4f30-92ab-823b0ccbf381",
   "metadata": {
    "tags": []
   },
   "outputs": [
    {
     "data": {
      "text/plain": [
       "(4216, 7)"
      ]
     },
     "execution_count": 5,
     "metadata": {},
     "output_type": "execute_result"
    }
   ],
   "source": [
    "rgs_14_bands.shape"
   ]
  },
  {
   "cell_type": "code",
   "execution_count": 6,
   "id": "088aea54-b8db-4b15-8e50-c3b034dd4f9e",
   "metadata": {
    "tags": []
   },
   "outputs": [
    {
     "data": {
      "text/plain": [
       "dtype('float64')"
      ]
     },
     "execution_count": 6,
     "metadata": {},
     "output_type": "execute_result"
    }
   ],
   "source": [
    "rgs_14_bands.dtype"
   ]
  },
  {
   "cell_type": "markdown",
   "id": "4c1b4e8f-ad6c-419a-8e82-bfe650195049",
   "metadata": {},
   "source": [
    "## EpochsLinked\n",
    "- Nx4 data array, where N is the number of epochs, and columns are described as follows:\n",
    "\n",
    "\t- column 1: epoch ID\n",
    "\t- column 2: epoch index (currently not used)\n",
    "\t- column 3: ground truth sleep stage ID, where\n",
    "\n",
    "\t\t\t\t- 1 is associated with wakefulness,\n",
    "\t\t\t\t- 2 is associated with NREM sleep,\n",
    "\t\t\t\t- 3 is associated with REM sleep\n",
    "\t- column 4: the subject ID (used in multi-subject analysis only)"
   ]
  },
  {
   "cell_type": "code",
   "execution_count": 7,
   "id": "aba84419-4c17-4abf-9f4d-1257acfa86a6",
   "metadata": {
    "tags": []
   },
   "outputs": [],
   "source": [
    "epoch_ids = np.arange(timesteps, dtype=int)"
   ]
  },
  {
   "cell_type": "code",
   "execution_count": 8,
   "id": "9d86b698-c675-4f7c-ba35-6236212137b0",
   "metadata": {
    "tags": []
   },
   "outputs": [],
   "source": [
    "epoch_index = np.arange(timesteps, dtype=int)"
   ]
  },
  {
   "cell_type": "code",
   "execution_count": 9,
   "id": "19236475-c9a3-4010-9aa6-7b6b55ccb4ed",
   "metadata": {
    "tags": []
   },
   "outputs": [],
   "source": [
    "ground_truth_sleep_stage_id = np.random.choice([1, 2, 3], size=timesteps).astype(int)"
   ]
  },
  {
   "cell_type": "code",
   "execution_count": 10,
   "id": "b8f91c28-0d05-4daf-a1e2-c2b75bb2da9b",
   "metadata": {
    "tags": []
   },
   "outputs": [],
   "source": [
    "subject_id = np.ones(timesteps, dtype=int)"
   ]
  },
  {
   "cell_type": "code",
   "execution_count": 11,
   "id": "a003e1e1-9a2a-479b-b550-e0e2cf84c5a9",
   "metadata": {
    "tags": []
   },
   "outputs": [],
   "source": [
    "epochs_linked = np.column_stack([epoch_ids, epoch_index, ground_truth_sleep_stage_id, subject_id])"
   ]
  },
  {
   "cell_type": "code",
   "execution_count": 12,
   "id": "3e84fa01-7916-4b1d-92a0-4b0756af80f2",
   "metadata": {
    "tags": []
   },
   "outputs": [
    {
     "data": {
      "text/plain": [
       "(4216, 4)"
      ]
     },
     "execution_count": 12,
     "metadata": {},
     "output_type": "execute_result"
    }
   ],
   "source": [
    "epochs_linked.shape"
   ]
  },
  {
   "cell_type": "code",
   "execution_count": 13,
   "id": "fc017c2f-18b3-4882-81a2-891b0612ad25",
   "metadata": {
    "tags": []
   },
   "outputs": [
    {
     "data": {
      "text/plain": [
       "array([0, 0, 3, 1])"
      ]
     },
     "execution_count": 13,
     "metadata": {},
     "output_type": "execute_result"
    }
   ],
   "source": [
    "epochs_linked[0]"
   ]
  },
  {
   "cell_type": "code",
   "execution_count": 14,
   "id": "cb2b5bec-188c-4cf4-92d9-a7d62120d381",
   "metadata": {
    "tags": []
   },
   "outputs": [
    {
     "data": {
      "text/plain": [
       "array([[   0,    0,    3,    1],\n",
       "       [   1,    1,    3,    1],\n",
       "       [   2,    2,    1,    1],\n",
       "       ...,\n",
       "       [4213, 4213,    2,    1],\n",
       "       [4214, 4214,    2,    1],\n",
       "       [4215, 4215,    1,    1]])"
      ]
     },
     "execution_count": 14,
     "metadata": {},
     "output_type": "execute_result"
    }
   ],
   "source": [
    "epochs_linked"
   ]
  },
  {
   "cell_type": "markdown",
   "id": "9b1379c9-e5c1-4a13-9996-0ad265086579",
   "metadata": {},
   "source": [
    "## EpochTime\n",
    "- Nx3 data array, where N is the number of epochs, and columns are described as follows:\n",
    "\n",
    "\t- column 1: epoch ID\n",
    "\t- column 2: recording mode (i.e. baseline or recovery), where\n",
    "    \n",
    "\t\t\t   - 1 is associated with baseline,\n",
    "\t\t\t   - 2 is associated with recovery (after sleep deprivation)\n",
    "\t- column 3: the epoch date-time"
   ]
  },
  {
   "cell_type": "code",
   "execution_count": 15,
   "id": "ecc6c35a-d08b-4159-a400-355b3bc1e4b5",
   "metadata": {
    "tags": []
   },
   "outputs": [],
   "source": [
    "recording_mode = np.random.choice([1, 2], size=timesteps).astype('<f8')"
   ]
  },
  {
   "cell_type": "code",
   "execution_count": 16,
   "id": "0f1f1bb7-a192-4b6e-b3b3-6f0a44b06a0f",
   "metadata": {
    "tags": []
   },
   "outputs": [],
   "source": [
    "start_value = 41137.2918055555\n",
    "step_size = 8.234392028162487e-05\n",
    "\n",
    "time = np.arange(start_value, start_value + step_size * timesteps, step_size).astype('<f8')"
   ]
  },
  {
   "cell_type": "code",
   "execution_count": 17,
   "id": "d506559a-1764-4c20-8a45-19fef32e8e7c",
   "metadata": {
    "tags": []
   },
   "outputs": [
    {
     "data": {
      "text/plain": [
       "array([41137.29180556, 41137.2918879 , 41137.29197024, ...,\n",
       "       41137.63872048, 41137.63880283, 41137.63888517])"
      ]
     },
     "execution_count": 17,
     "metadata": {},
     "output_type": "execute_result"
    }
   ],
   "source": [
    "time"
   ]
  },
  {
   "cell_type": "code",
   "execution_count": 18,
   "id": "27cb2a85-bc7f-4aa0-a70f-a04d9741d7f1",
   "metadata": {
    "tags": []
   },
   "outputs": [],
   "source": [
    "epoch_time = np.column_stack([epoch_ids.astype('<f8'), recording_mode, time])"
   ]
  },
  {
   "cell_type": "code",
   "execution_count": 19,
   "id": "6c82ae38-05d3-4067-b74e-1e4141e598e1",
   "metadata": {
    "tags": []
   },
   "outputs": [
    {
     "data": {
      "text/plain": [
       "array([[0.00000000e+00, 2.00000000e+00, 4.11372918e+04],\n",
       "       [1.00000000e+00, 2.00000000e+00, 4.11372919e+04],\n",
       "       [2.00000000e+00, 1.00000000e+00, 4.11372920e+04],\n",
       "       ...,\n",
       "       [4.21300000e+03, 2.00000000e+00, 4.11376387e+04],\n",
       "       [4.21400000e+03, 2.00000000e+00, 4.11376388e+04],\n",
       "       [4.21500000e+03, 2.00000000e+00, 4.11376389e+04]])"
      ]
     },
     "execution_count": 19,
     "metadata": {},
     "output_type": "execute_result"
    }
   ],
   "source": [
    "epoch_time"
   ]
  },
  {
   "cell_type": "code",
   "execution_count": 20,
   "id": "28adfde3-c0ee-41d4-af9d-09c559954bbb",
   "metadata": {
    "tags": []
   },
   "outputs": [],
   "source": [
    "np.savez(\"rgs14.npz\", d=rgs_14_bands, epochsLinked=epochs_linked, epochTime=epoch_time)"
   ]
  },
  {
   "cell_type": "code",
   "execution_count": null,
   "id": "d977e263-65a9-4d22-8af6-7d811d5b2984",
   "metadata": {},
   "outputs": [],
   "source": []
  }
 ],
 "metadata": {
  "kernelspec": {
   "display_name": "sleep-scoring-venv",
   "language": "python",
   "name": "sleep-scoring-venv"
  },
  "language_info": {
   "codemirror_mode": {
    "name": "ipython",
    "version": 3
   },
   "file_extension": ".py",
   "mimetype": "text/x-python",
   "name": "python",
   "nbconvert_exporter": "python",
   "pygments_lexer": "ipython3",
   "version": "3.10.4"
  }
 },
 "nbformat": 4,
 "nbformat_minor": 5
}
