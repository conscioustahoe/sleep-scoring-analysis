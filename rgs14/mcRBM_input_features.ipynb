{
 "cells": [
  {
   "cell_type": "code",
   "execution_count": 1,
   "id": "1314c569-4389-4fd9-83a7-eb5cc82904cd",
   "metadata": {
    "tags": []
   },
   "outputs": [],
   "source": [
    "from scipy.io import loadmat\n",
    "lfp_buz_features = loadmat('lfp_buz_features_rgs14.mat')"
   ]
  },
  {
   "cell_type": "markdown",
   "id": "94ed5e89-a7eb-4aa6-842e-ad46fdf755bf",
   "metadata": {},
   "source": [
    "## EEG Bands and EMG Like Signals"
   ]
  },
  {
   "cell_type": "code",
   "execution_count": 2,
   "id": "42821588-cb4b-483c-9fa4-14f0141de6cf",
   "metadata": {
    "tags": []
   },
   "outputs": [],
   "source": [
    "import pandas as pd\n",
    "import numpy as np\n",
    "\n",
    "lfp_matrix = np.array(lfp_buz_features['lfpFeatures'])\n",
    "\n",
    "numColumns = len(lfp_matrix[0])\n",
    "\n",
    "delta_pfc_df = pd.DataFrame(lfp_matrix[:, 0], columns=[\"DeltaPFC\"])\n",
    "theta_hpc_df = pd.DataFrame(lfp_matrix[:, 1], columns=[\"ThetaHPC\"])\n",
    "beta_pfc_df = pd.DataFrame(lfp_matrix[:, 2], columns=[\"BetaPFC\"])\n",
    "gamma_hpc_df = pd.DataFrame(lfp_matrix[:, 3], columns=[\"GammaHPC\"])\n",
    "emg_like_df = pd.DataFrame(lfp_matrix[:, 4], columns=[\"EMGLike\"])\n",
    "\n",
    "epsilon_value = 0.0001\n",
    "timesteps = 10542"
   ]
  },
  {
   "cell_type": "code",
   "execution_count": 3,
   "id": "aaee2967-e260-4201-ba54-5bfac9ad333e",
   "metadata": {
    "tags": []
   },
   "outputs": [],
   "source": [
    "delta_pfc = delta_pfc_df['DeltaPFC'].values\n",
    "theta_hpc  = theta_hpc_df['ThetaHPC'].values\n",
    "\n",
    "# delta_pfc = delta_pfc[delta_pfc != 0]\n",
    "delta_pfc = np.where(delta_pfc == 0, epsilon_value, delta_pfc)\n",
    "# theta_hpc = theta_hpc[theta_hpc != 0]\n",
    "theta_hpc = np.where(theta_hpc == 0, epsilon_value, theta_hpc)\n",
    "\n",
    "delta_pfc_by_theta_hpc = delta_pfc / theta_hpc\n",
    "\n",
    "emg_like = emg_like_df.EMGLike.values\n",
    "# emg_like = emg_like[emg_like != 0]\n",
    "emg_like = np.where(emg_like == 0, epsilon_value, emg_like)"
   ]
  },
  {
   "cell_type": "markdown",
   "id": "629abaa1-8a95-49a6-be74-c1b21f193fa4",
   "metadata": {},
   "source": [
    "## Bands\n",
    "- Nx4 data array, where N is the number of epochs, and columns refer to Delta PFC, Theta HPC, Delta/Theta and EMG"
   ]
  },
  {
   "cell_type": "code",
   "execution_count": 4,
   "id": "1c763dfb-6986-4f3d-bd22-7a766c9773bb",
   "metadata": {
    "tags": []
   },
   "outputs": [],
   "source": [
    "rgs_14_bands = np.column_stack([\n",
    "    delta_pfc, \n",
    "    theta_hpc, \n",
    "    delta_pfc_by_theta_hpc, \n",
    "    emg_like, \n",
    "])"
   ]
  },
  {
   "cell_type": "code",
   "execution_count": 5,
   "id": "4abd6cea-305a-414b-9216-1a5a3b4fa779",
   "metadata": {
    "tags": []
   },
   "outputs": [
    {
     "data": {
      "text/plain": [
       "array([[0.14977489, 0.10481071, 1.4290037 , 0.93493003],\n",
       "       [0.15763617, 0.11268804, 1.39887228, 0.92934066],\n",
       "       [0.16509083, 0.12095128, 1.36493664, 0.91670823],\n",
       "       ...,\n",
       "       [0.38752742, 0.55695679, 0.6957944 , 0.09506661],\n",
       "       [0.400658  , 0.51908918, 0.7718481 , 0.08132514],\n",
       "       [0.4145541 , 0.48116965, 0.86155496, 0.07903146]])"
      ]
     },
     "execution_count": 5,
     "metadata": {},
     "output_type": "execute_result"
    }
   ],
   "source": [
    "rgs_14_bands"
   ]
  },
  {
   "cell_type": "code",
   "execution_count": 6,
   "id": "82513195-8ead-418b-a753-8cd43cfcb585",
   "metadata": {
    "tags": []
   },
   "outputs": [
    {
     "data": {
      "text/plain": [
       "array([0.0001    , 0.0001    , 0.00021234, 0.0001    ])"
      ]
     },
     "execution_count": 6,
     "metadata": {},
     "output_type": "execute_result"
    }
   ],
   "source": [
    "np.min(rgs_14_bands, axis=0)"
   ]
  },
  {
   "cell_type": "code",
   "execution_count": 7,
   "id": "4ef42f81-865a-487c-9143-72ee8946feb7",
   "metadata": {
    "tags": []
   },
   "outputs": [
    {
     "data": {
      "text/plain": [
       "array([1.00000000e+00, 1.00000000e+00, 9.04189424e+03, 1.00000000e+00])"
      ]
     },
     "execution_count": 7,
     "metadata": {},
     "output_type": "execute_result"
    }
   ],
   "source": [
    "np.max(rgs_14_bands, axis=0)"
   ]
  },
  {
   "cell_type": "code",
   "execution_count": 8,
   "id": "f2c36d0e-f9ee-4ffa-945b-480da3d8c5e3",
   "metadata": {
    "tags": []
   },
   "outputs": [],
   "source": [
    "import matplotlib.pyplot as plt\n",
    "num_bins = int(np.sqrt(timesteps))"
   ]
  },
  {
   "cell_type": "code",
   "execution_count": 9,
   "id": "04c04b8d-741f-404e-98f7-07f154d564de",
   "metadata": {
    "tags": []
   },
   "outputs": [
    {
     "data": {
      "text/plain": [
       "Text(0.5, 1.0, 'Histogram of delta pfc')"
      ]
     },
     "execution_count": 9,
     "metadata": {},
     "output_type": "execute_result"
    },
    {
     "data": {
      "image/png": "[encoded data removed]",
      "text/plain": [
       "<Figure size 432x288 with 1 Axes>"
      ]
     },
     "metadata": {
      "needs_background": "light"
     },
     "output_type": "display_data"
    }
   ],
   "source": [
    "plt.hist(delta_pfc, bins=num_bins, color='blue', edgecolor='black')\n",
    "plt.xlabel('Values')\n",
    "plt.ylabel('Frequency')\n",
    "plt.title('Histogram of delta pfc')"
   ]
  },
  {
   "cell_type": "code",
   "execution_count": 10,
   "id": "2af2415c-b91b-4ad2-abd6-c0c0d4a94419",
   "metadata": {
    "tags": []
   },
   "outputs": [
    {
     "data": {
      "text/plain": [
       "Text(0.5, 1.0, 'Histogram of theta hpc')"
      ]
     },
     "execution_count": 10,
     "metadata": {},
     "output_type": "execute_result"
    },
    {
     "data": {
      "image/png": "[encoded data removed]",
      "text/plain": [
       "<Figure size 432x288 with 1 Axes>"
      ]
     },
     "metadata": {
      "needs_background": "light"
     },
     "output_type": "display_data"
    }
   ],
   "source": [
    "plt.hist(theta_hpc, bins=num_bins, color='blue', edgecolor='black')\n",
    "plt.xlabel('Values')\n",
    "plt.ylabel('Frequency')\n",
    "plt.title('Histogram of theta hpc')"
   ]
  },
  {
   "cell_type": "code",
   "execution_count": 11,
   "id": "9e80680a-5822-48bc-a87f-87328dc734b3",
   "metadata": {
    "tags": []
   },
   "outputs": [
    {
     "data": {
      "text/plain": [
       "Text(0.5, 1.0, 'Histogram of emg like')"
      ]
     },
     "execution_count": 11,
     "metadata": {},
     "output_type": "execute_result"
    },
    {
     "data": {
      "image/png": "[encoded data removed]",
      "text/plain": [
       "<Figure size 432x288 with 1 Axes>"
      ]
     },
     "metadata": {
      "needs_background": "light"
     },
     "output_type": "display_data"
    }
   ],
   "source": [
    "plt.hist(emg_like, bins=num_bins, color='blue', edgecolor='black')\n",
    "plt.xlabel('Values')\n",
    "plt.ylabel('Frequency')\n",
    "plt.title('Histogram of emg like')"
   ]
  },
  {
   "cell_type": "markdown",
   "id": "b2566964-1ebe-4036-a42d-acbd97182668",
   "metadata": {},
   "source": [
    "## Normalize Delta PFC By Theta HPC"
   ]
  },
  {
   "cell_type": "code",
   "execution_count": 12,
   "id": "6f998da2-b26f-45d5-a989-fe1a8d142d9e",
   "metadata": {
    "tags": []
   },
   "outputs": [
    {
     "data": {
      "text/plain": [
       "Text(0.5, 1.0, 'Histogram of delta_pfc_by_theta_hpc')"
      ]
     },
     "execution_count": 12,
     "metadata": {},
     "output_type": "execute_result"
    },
    {
     "data": {
      "image/png": "[encoded data removed]",
      "text/plain": [
       "<Figure size 432x288 with 1 Axes>"
      ]
     },
     "metadata": {
      "needs_background": "light"
     },
     "output_type": "display_data"
    }
   ],
   "source": [
    "plt.hist(delta_pfc_by_theta_hpc, bins=num_bins, color='blue', edgecolor='black')\n",
    "plt.xlabel('Values')\n",
    "plt.ylabel('Frequency')\n",
    "plt.title('Histogram of delta_pfc_by_theta_hpc')"
   ]
  },
  {
   "cell_type": "code",
   "execution_count": 13,
   "id": "b19e3a01-653e-4181-a34b-abe8ec39e154",
   "metadata": {
    "tags": []
   },
   "outputs": [
    {
     "name": "stdout",
     "output_type": "stream",
     "text": [
      "Total number of values: 10542\n",
      "Min: 0.00021233580582612056\n",
      "Max: 9041.894242541466\n",
      "Median: 3.9673140258333834\n",
      "Number of values greater than 1.0: 7926\n"
     ]
    }
   ],
   "source": [
    "print(f\"Total number of values: {len(delta_pfc_by_theta_hpc)}\")\n",
    "print(f\"Min: {np.min(delta_pfc_by_theta_hpc)}\")\n",
    "print(f\"Max: {np.max(delta_pfc_by_theta_hpc)}\")\n",
    "\n",
    "print(f\"Median: {np.median(delta_pfc_by_theta_hpc)}\")\n",
    "\n",
    "threshold = 1.0\n",
    "\n",
    "print(f\"Number of values greater than {threshold}: {len(delta_pfc_by_theta_hpc[delta_pfc_by_theta_hpc > threshold])}\")"
   ]
  },
  {
   "cell_type": "code",
   "execution_count": 14,
   "id": "3741b56e-d528-4585-bd58-8badb63dc100",
   "metadata": {
    "tags": []
   },
   "outputs": [
    {
     "name": "stdout",
     "output_type": "stream",
     "text": [
      "Min value after normalization: 7.664776922914855e-05\n",
      "Max value after normalization: 0.0010074916575478533\n"
     ]
    }
   ],
   "source": [
    "outlier_threshold = 1.0\n",
    "\n",
    "min_value = np.min(delta_pfc_by_theta_hpc)\n",
    "max_value = np.max(delta_pfc_by_theta_hpc)\n",
    "\n",
    "log_transformed_data = np.log1p(delta_pfc_by_theta_hpc + 1)\n",
    "normalized_delta_pfc_by_theta_hpc = (log_transformed_data - min_value) / (max_value - min_value)\n",
    "\n",
    "# Check the range of values after normalization\n",
    "print(\"Min value after normalization:\", np.min(normalized_delta_pfc_by_theta_hpc))\n",
    "print(\"Max value after normalization:\", np.max(normalized_delta_pfc_by_theta_hpc))"
   ]
  },
  {
   "cell_type": "code",
   "execution_count": 15,
   "id": "960140e3-f5f5-4b59-9000-c2d821f6ca10",
   "metadata": {
    "tags": []
   },
   "outputs": [
    {
     "data": {
      "text/plain": [
       "Text(0.5, 1.0, 'Histogram of delta_pfc_by_theta_hpc')"
      ]
     },
     "execution_count": 15,
     "metadata": {},
     "output_type": "execute_result"
    },
    {
     "data": {
      "image/png": "[encoded data removed]",
      "text/plain": [
       "<Figure size 432x288 with 1 Axes>"
      ]
     },
     "metadata": {
      "needs_background": "light"
     },
     "output_type": "display_data"
    }
   ],
   "source": [
    "plt.hist(normalized_delta_pfc_by_theta_hpc, bins=num_bins, color='blue', edgecolor='black')\n",
    "plt.xlabel('Values')\n",
    "plt.ylabel('Frequency')\n",
    "plt.title('Histogram of delta_pfc_by_theta_hpc')"
   ]
  },
  {
   "cell_type": "code",
   "execution_count": 16,
   "id": "05e6cdfb-7449-4448-9ba4-c1b9fdd01f39",
   "metadata": {
    "tags": []
   },
   "outputs": [
    {
     "name": "stdout",
     "output_type": "stream",
     "text": [
      "Number of values greater than 0: 10542\n"
     ]
    }
   ],
   "source": [
    "print(f\"Number of values greater than {0}: {len(normalized_delta_pfc_by_theta_hpc[normalized_delta_pfc_by_theta_hpc < 0.5])}\")"
   ]
  },
  {
   "cell_type": "markdown",
   "id": "4c1b4e8f-ad6c-419a-8e82-bfe650195049",
   "metadata": {},
   "source": [
    "## EpochsLinked\n",
    "- Nx4 data array, where N is the number of epochs, and columns are described as follows:\n",
    "\n",
    "\t- column 1: epoch ID\n",
    "\t- column 2: epoch index (currently not used)\n",
    "\t- column 3: ground truth sleep stage ID, where\n",
    "\n",
    "\t\t\t\t- 1 is associated with wakefulness,\n",
    "\t\t\t\t- 2 is associated with NREM sleep,\n",
    "\t\t\t\t- 3 is associated with REM sleep\n",
    "\t- column 4: the subject ID (used in multi-subject analysis only)"
   ]
  },
  {
   "cell_type": "code",
   "execution_count": 17,
   "id": "aba84419-4c17-4abf-9f4d-1257acfa86a6",
   "metadata": {
    "tags": []
   },
   "outputs": [
    {
     "data": {
      "text/plain": [
       "10542"
      ]
     },
     "execution_count": 17,
     "metadata": {},
     "output_type": "execute_result"
    }
   ],
   "source": [
    "epoch_ids = np.arange(timesteps, dtype=int)\n",
    "\n",
    "epoch_ids.size"
   ]
  },
  {
   "cell_type": "code",
   "execution_count": 18,
   "id": "4549b185-e7b2-4d3b-881a-e058542f434e",
   "metadata": {
    "tags": []
   },
   "outputs": [
    {
     "data": {
      "text/plain": [
       "10542"
      ]
     },
     "execution_count": 18,
     "metadata": {},
     "output_type": "execute_result"
    }
   ],
   "source": [
    "epoch_index = np.arange(timesteps, dtype=int)\n",
    "\n",
    "epoch_index.size"
   ]
  },
  {
   "cell_type": "code",
   "execution_count": 19,
   "id": "9d86b698-c675-4f7c-ba35-6236212137b0",
   "metadata": {
    "tags": []
   },
   "outputs": [
    {
     "data": {
      "text/plain": [
       "dict_keys(['__header__', '__version__', '__globals__', 'downsampledStates', 'keys', 'None', '__function_workspace__'])"
      ]
     },
     "execution_count": 19,
     "metadata": {},
     "output_type": "execute_result"
    }
   ],
   "source": [
    "states = loadmat('states.mat')\n",
    "\n",
    "states.keys()"
   ]
  },
  {
   "cell_type": "code",
   "execution_count": 20,
   "id": "b633b746-5898-49f7-8e84-50c9dfa94d9e",
   "metadata": {
    "tags": []
   },
   "outputs": [
    {
     "data": {
      "text/plain": [
       "array([[0, 0, 0, ..., 4, 4, 4]], dtype=uint8)"
      ]
     },
     "execution_count": 20,
     "metadata": {},
     "output_type": "execute_result"
    }
   ],
   "source": [
    "states['downsampledStates']"
   ]
  },
  {
   "cell_type": "code",
   "execution_count": 21,
   "id": "6b436674-cb93-4b0f-b7bd-2ce356021219",
   "metadata": {
    "tags": []
   },
   "outputs": [],
   "source": [
    "ground_truth_sleep_stage_id = states['downsampledStates'].astype(int)\n",
    "\n",
    "ground_truth_sleep_stage_id = ground_truth_sleep_stage_id.flatten()"
   ]
  },
  {
   "cell_type": "code",
   "execution_count": 22,
   "id": "c25e3e66-6a8d-475e-94fc-ea33a857ee1e",
   "metadata": {
    "tags": []
   },
   "outputs": [
    {
     "data": {
      "text/plain": [
       "array([0, 0, 0, ..., 4, 4, 4])"
      ]
     },
     "execution_count": 22,
     "metadata": {},
     "output_type": "execute_result"
    }
   ],
   "source": [
    "ground_truth_sleep_stage_id"
   ]
  },
  {
   "cell_type": "code",
   "execution_count": 23,
   "id": "b8f91c28-0d05-4daf-a1e2-c2b75bb2da9b",
   "metadata": {
    "tags": []
   },
   "outputs": [
    {
     "data": {
      "text/plain": [
       "10542"
      ]
     },
     "execution_count": 23,
     "metadata": {},
     "output_type": "execute_result"
    }
   ],
   "source": [
    "subject_id = np.ones(timesteps, dtype=int)\n",
    "\n",
    "subject_id.size"
   ]
  },
  {
   "cell_type": "code",
   "execution_count": 24,
   "id": "a003e1e1-9a2a-479b-b550-e0e2cf84c5a9",
   "metadata": {
    "tags": []
   },
   "outputs": [],
   "source": [
    "epochs_linked = np.column_stack([epoch_ids, \n",
    "                                 epoch_index, \n",
    "                                 ground_truth_sleep_stage_id,\n",
    "                                 subject_id\n",
    "                                ])"
   ]
  },
  {
   "cell_type": "markdown",
   "id": "7c55bab1-62c5-4f43-bab1-f4df91bf81eb",
   "metadata": {
    "tags": []
   },
   "source": [
    "# epochs_linked.shape"
   ]
  },
  {
   "cell_type": "code",
   "execution_count": 25,
   "id": "3d6fc37b-8f0d-4048-80fe-370f805721d8",
   "metadata": {
    "tags": []
   },
   "outputs": [
    {
     "data": {
      "text/plain": [
       "(10542, 4)"
      ]
     },
     "execution_count": 25,
     "metadata": {},
     "output_type": "execute_result"
    }
   ],
   "source": [
    "epochs_linked.shape"
   ]
  },
  {
   "cell_type": "markdown",
   "id": "9b1379c9-e5c1-4a13-9996-0ad265086579",
   "metadata": {},
   "source": [
    "## EpochTime\n",
    "- Nx3 data array, where N is the number of epochs, and columns are described as follows:\n",
    "\n",
    "\t- column 1: epoch ID\n",
    "\t- column 2: recording mode (i.e. baseline or recovery), where\n",
    "    \n",
    "\t\t\t   - 1 is associated with baseline,\n",
    "\t\t\t   - 2 is associated with recovery (after sleep deprivation)\n",
    "\t- column 3: the epoch date-time"
   ]
  },
  {
   "cell_type": "code",
   "execution_count": 26,
   "id": "ecc6c35a-d08b-4159-a400-355b3bc1e4b5",
   "metadata": {
    "tags": []
   },
   "outputs": [],
   "source": [
    "recording_mode = np.ones(timesteps).astype('<f8')"
   ]
  },
  {
   "cell_type": "code",
   "execution_count": 27,
   "id": "0f1f1bb7-a192-4b6e-b3b3-6f0a44b06a0f",
   "metadata": {
    "tags": []
   },
   "outputs": [
    {
     "data": {
      "text/plain": [
       "(10542,)"
      ]
     },
     "execution_count": 27,
     "metadata": {},
     "output_type": "execute_result"
    }
   ],
   "source": [
    "start_value = 41137.2918055555\n",
    "step_size = 8.234392028162487e-05\n",
    "\n",
    "time = np.arange(start_value, start_value + step_size * timesteps, step_size).astype('<f8')\n",
    "\n",
    "time = time[:10542]\n",
    "\n",
    "time.shape"
   ]
  },
  {
   "cell_type": "code",
   "execution_count": 28,
   "id": "27cb2a85-bc7f-4aa0-a70f-a04d9741d7f1",
   "metadata": {
    "tags": []
   },
   "outputs": [
    {
     "data": {
      "text/plain": [
       "array([[0.00000000e+00, 1.00000000e+00, 4.11372918e+04],\n",
       "       [1.00000000e+00, 1.00000000e+00, 4.11372919e+04],\n",
       "       [2.00000000e+00, 1.00000000e+00, 4.11372920e+04],\n",
       "       ...,\n",
       "       [1.05390000e+04, 1.00000000e+00, 4.11381596e+04],\n",
       "       [1.05400000e+04, 1.00000000e+00, 4.11381597e+04],\n",
       "       [1.05410000e+04, 1.00000000e+00, 4.11381598e+04]])"
      ]
     },
     "execution_count": 28,
     "metadata": {},
     "output_type": "execute_result"
    }
   ],
   "source": [
    "epoch_time = np.column_stack([epoch_ids.astype('<f8'), recording_mode, time])\n",
    "\n",
    "epoch_time"
   ]
  },
  {
   "cell_type": "code",
   "execution_count": 29,
   "id": "28adfde3-c0ee-41d4-af9d-09c559954bbb",
   "metadata": {
    "tags": []
   },
   "outputs": [],
   "source": [
    "np.savez(\"rgs14.npz\", d=rgs_14_bands, epochsLinked=epochs_linked, epochTime=epoch_time)"
   ]
  },
  {
   "cell_type": "code",
   "execution_count": null,
   "id": "d977e263-65a9-4d22-8af6-7d811d5b2984",
   "metadata": {},
   "outputs": [],
   "source": []
  }
 ],
 "metadata": {
  "kernelspec": {
   "display_name": "sleep-scoring-venv",
   "language": "python",
   "name": "sleep-scoring-venv"
  },
  "language_info": {
   "codemirror_mode": {
    "name": "ipython",
    "version": 3
   },
   "file_extension": ".py",
   "mimetype": "text/x-python",
   "name": "python",
   "nbconvert_exporter": "python",
   "pygments_lexer": "ipython3",
   "version": "3.10.4"
  }
 },
 "nbformat": 4,
 "nbformat_minor": 5
}
