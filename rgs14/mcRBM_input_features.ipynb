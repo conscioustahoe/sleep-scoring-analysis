{
 "cells": [
  {
   "cell_type": "code",
   "execution_count": 1,
   "id": "1314c569-4389-4fd9-83a7-eb5cc82904cd",
   "metadata": {
    "tags": []
   },
   "outputs": [],
   "source": [
    "from scipy.io import loadmat\n",
    "lfp_buz_features = loadmat('lfp_buz_features_rgs14.mat')"
   ]
  },
  {
   "cell_type": "markdown",
   "id": "94ed5e89-a7eb-4aa6-842e-ad46fdf755bf",
   "metadata": {},
   "source": [
    "## EEG Bands and EMG Like Signals"
   ]
  },
  {
   "cell_type": "code",
   "execution_count": 2,
   "id": "42821588-cb4b-483c-9fa4-14f0141de6cf",
   "metadata": {
    "tags": []
   },
   "outputs": [],
   "source": [
    "import pandas as pd\n",
    "import numpy as np\n",
    "\n",
    "lfp_matrix = np.array(lfp_buz_features['lfpFeatures'])\n",
    "\n",
    "numColumns = len(lfp_matrix[0])\n",
    "\n",
    "delta_pfc_df = pd.DataFrame(lfp_matrix[:, 0], columns=[\"DeltaPFC\"])\n",
    "theta_hpc_df = pd.DataFrame(lfp_matrix[:, 1], columns=[\"ThetaHPC\"])\n",
    "beta_pfc_df = pd.DataFrame(lfp_matrix[:, 2], columns=[\"BetaPFC\"])\n",
    "gamma_hpc_df = pd.DataFrame(lfp_matrix[:, 3], columns=[\"GammaHPC\"])\n",
    "emg_like_df = pd.DataFrame(lfp_matrix[:, 4], columns=[\"EMGLike\"])\n",
    "\n",
    "delta_pfc_by_theta_hpc_norm = loadmat('DeltaPFCThetaHPCRatioNorm.mat')['DeltaBandPFCByThetaBandHPCNorm'].flatten()\n",
    "\n",
    "epsilon_value = 0.001\n",
    "timesteps = 10542"
   ]
  },
  {
   "cell_type": "code",
   "execution_count": 3,
   "id": "aaee2967-e260-4201-ba54-5bfac9ad333e",
   "metadata": {
    "tags": []
   },
   "outputs": [],
   "source": [
    "delta_pfc = delta_pfc_df['DeltaPFC'].values\n",
    "theta_hpc  = theta_hpc_df['ThetaHPC'].values\n",
    "\n",
    "delta_pfc = np.where(delta_pfc == 0, epsilon_value, delta_pfc)\n",
    "theta_hpc = np.where(theta_hpc == 0, epsilon_value, theta_hpc)\n",
    "\n",
    "emg_like = emg_like_df.EMGLike.values\n",
    "emg_like = np.where(emg_like == 0, epsilon_value, emg_like)"
   ]
  },
  {
   "cell_type": "markdown",
   "id": "629abaa1-8a95-49a6-be74-c1b21f193fa4",
   "metadata": {},
   "source": [
    "## Bands\n",
    "- Nx4 data array, where N is the number of epochs, and columns refer to Delta PFC, Theta HPC, Delta/Theta and EMG"
   ]
  },
  {
   "cell_type": "code",
   "execution_count": 4,
   "id": "1c763dfb-6986-4f3d-bd22-7a766c9773bb",
   "metadata": {
    "tags": []
   },
   "outputs": [],
   "source": [
    "rgs_14_bands = np.column_stack([\n",
    "    delta_pfc, \n",
    "    theta_hpc, \n",
    "    delta_pfc_by_theta_hpc_norm, \n",
    "    emg_like, \n",
    "])"
   ]
  },
  {
   "cell_type": "code",
   "execution_count": 5,
   "id": "4abd6cea-305a-414b-9216-1a5a3b4fa779",
   "metadata": {
    "tags": []
   },
   "outputs": [
    {
     "data": {
      "text/plain": [
       "array([[1.49774889e-01, 1.04810707e-01, 1.58042515e-03, 9.34930027e-01],\n",
       "       [1.57636173e-01, 1.12688039e-01, 1.54710091e-03, 9.29340661e-01],\n",
       "       [1.65090828e-01, 1.20951275e-01, 1.50956935e-03, 9.16708231e-01],\n",
       "       ...,\n",
       "       [3.87527419e-01, 5.56956794e-01, 7.69522827e-04, 9.50666070e-02],\n",
       "       [4.00657996e-01, 5.19089181e-01, 8.53635395e-04, 8.13251436e-02],\n",
       "       [4.14554102e-01, 4.81169652e-01, 9.52847866e-04, 7.90314600e-02]])"
      ]
     },
     "execution_count": 5,
     "metadata": {},
     "output_type": "execute_result"
    }
   ],
   "source": [
    "rgs_14_bands"
   ]
  },
  {
   "cell_type": "code",
   "execution_count": 6,
   "id": "f2c36d0e-f9ee-4ffa-945b-480da3d8c5e3",
   "metadata": {
    "tags": []
   },
   "outputs": [],
   "source": [
    "import matplotlib.pyplot as plt\n",
    "num_bins = int(np.sqrt(timesteps))"
   ]
  },
  {
   "cell_type": "code",
   "execution_count": 7,
   "id": "04c04b8d-741f-404e-98f7-07f154d564de",
   "metadata": {
    "tags": []
   },
   "outputs": [
    {
     "data": {
      "text/plain": [
       "Text(0.5, 1.0, 'Histogram of delta pfc')"
      ]
     },
     "execution_count": 7,
     "metadata": {},
     "output_type": "execute_result"
    },
    {
     "data": {
      "image/png": "[encoded data removed]",
      "text/plain": [
       "<Figure size 432x288 with 1 Axes>"
      ]
     },
     "metadata": {
      "needs_background": "light"
     },
     "output_type": "display_data"
    }
   ],
   "source": [
    "plt.hist(delta_pfc, bins=num_bins, color='blue', edgecolor='black')\n",
    "plt.xlabel('Values')\n",
    "plt.ylabel('Frequency')\n",
    "plt.title('Histogram of delta pfc')"
   ]
  },
  {
   "cell_type": "code",
   "execution_count": 8,
   "id": "2af2415c-b91b-4ad2-abd6-c0c0d4a94419",
   "metadata": {
    "tags": []
   },
   "outputs": [
    {
     "data": {
      "text/plain": [
       "Text(0.5, 1.0, 'Histogram of theta hpc')"
      ]
     },
     "execution_count": 8,
     "metadata": {},
     "output_type": "execute_result"
    },
    {
     "data": {
      "image/png": "[encoded data removed]",
      "text/plain": [
       "<Figure size 432x288 with 1 Axes>"
      ]
     },
     "metadata": {
      "needs_background": "light"
     },
     "output_type": "display_data"
    }
   ],
   "source": [
    "plt.hist(theta_hpc, bins=num_bins, color='blue', edgecolor='black')\n",
    "plt.xlabel('Values')\n",
    "plt.ylabel('Frequency')\n",
    "plt.title('Histogram of theta hpc')"
   ]
  },
  {
   "cell_type": "code",
   "execution_count": 9,
   "id": "9e80680a-5822-48bc-a87f-87328dc734b3",
   "metadata": {
    "tags": []
   },
   "outputs": [
    {
     "data": {
      "text/plain": [
       "Text(0.5, 1.0, 'Histogram of emg like')"
      ]
     },
     "execution_count": 9,
     "metadata": {},
     "output_type": "execute_result"
    },
    {
     "data": {
      "image/png": "[encoded data removed]",
      "text/plain": [
       "<Figure size 432x288 with 1 Axes>"
      ]
     },
     "metadata": {
      "needs_background": "light"
     },
     "output_type": "display_data"
    }
   ],
   "source": [
    "plt.hist(emg_like, bins=num_bins, color='blue', edgecolor='black')\n",
    "plt.xlabel('Values')\n",
    "plt.ylabel('Frequency')\n",
    "plt.title('Histogram of emg like')"
   ]
  },
  {
   "cell_type": "code",
   "execution_count": 10,
   "id": "6f998da2-b26f-45d5-a989-fe1a8d142d9e",
   "metadata": {
    "tags": []
   },
   "outputs": [
    {
     "data": {
      "text/plain": [
       "Text(0.5, 1.0, 'Histogram of Delta PFC Theta HPC Ratio (Normalized)')"
      ]
     },
     "execution_count": 10,
     "metadata": {},
     "output_type": "execute_result"
    },
    {
     "data": {
      "image/png": "[encoded data removed]",
      "text/plain": [
       "<Figure size 432x288 with 1 Axes>"
      ]
     },
     "metadata": {
      "needs_background": "light"
     },
     "output_type": "display_data"
    }
   ],
   "source": [
    "plt.hist(delta_pfc_by_theta_hpc_norm, bins=num_bins, color='blue', edgecolor='black')\n",
    "plt.xscale('log')\n",
    "plt.xlabel('Values')\n",
    "plt.ylabel('Frequency')\n",
    "plt.title('Histogram of Delta PFC Theta HPC Ratio (Normalized)')"
   ]
  },
  {
   "cell_type": "code",
   "execution_count": 11,
   "id": "b19e3a01-653e-4181-a34b-abe8ec39e154",
   "metadata": {
    "tags": []
   },
   "outputs": [
    {
     "name": "stdout",
     "output_type": "stream",
     "text": [
      "Total number of values: 10542\n",
      "Min: 0.0\n",
      "Max: 1.0\n",
      "Median: 0.004387702310393605\n",
      "Number of values equal to 0: 1\n",
      "Number of values greater than 0: 10541\n",
      "Number of values less than 1: 10541\n"
     ]
    }
   ],
   "source": [
    "print(f\"Total number of values: {len(delta_pfc_by_theta_hpc_norm)}\")\n",
    "print(f\"Min: {np.min(delta_pfc_by_theta_hpc_norm)}\")\n",
    "print(f\"Max: {np.max(delta_pfc_by_theta_hpc_norm)}\")\n",
    "\n",
    "print(f\"Median: {np.median(delta_pfc_by_theta_hpc_norm)}\")\n",
    "\n",
    "print(f\"Number of values equal to 0: {len(delta_pfc_by_theta_hpc_norm[delta_pfc_by_theta_hpc_norm == 0])}\")\n",
    "print(f\"Number of values greater than 0: {len(delta_pfc_by_theta_hpc_norm[delta_pfc_by_theta_hpc_norm > 0])}\")\n",
    "print(f\"Number of values less than 1: {len(delta_pfc_by_theta_hpc_norm[delta_pfc_by_theta_hpc_norm < 1])}\")"
   ]
  },
  {
   "cell_type": "markdown",
   "id": "4c1b4e8f-ad6c-419a-8e82-bfe650195049",
   "metadata": {},
   "source": [
    "## EpochsLinked\n",
    "- Nx4 data array, where N is the number of epochs, and columns are described as follows:\n",
    "\n",
    "\t- column 1: epoch ID\n",
    "\t- column 2: epoch index (currently not used)\n",
    "\t- column 3: ground truth sleep stage ID, where\n",
    "\n",
    "\t\t\t\t- 1 is associated with wakefulness,\n",
    "\t\t\t\t- 2 is associated with NREM sleep,\n",
    "\t\t\t\t- 3 is associated with REM sleep\n",
    "\t- column 4: the subject ID (used in multi-subject analysis only)"
   ]
  },
  {
   "cell_type": "code",
   "execution_count": 12,
   "id": "aba84419-4c17-4abf-9f4d-1257acfa86a6",
   "metadata": {
    "tags": []
   },
   "outputs": [],
   "source": [
    "epoch_ids = np.arange(timesteps, dtype=int)"
   ]
  },
  {
   "cell_type": "code",
   "execution_count": 13,
   "id": "4549b185-e7b2-4d3b-881a-e058542f434e",
   "metadata": {
    "tags": []
   },
   "outputs": [],
   "source": [
    "epoch_index = np.arange(timesteps, dtype=int)"
   ]
  },
  {
   "cell_type": "code",
   "execution_count": 14,
   "id": "9d86b698-c675-4f7c-ba35-6236212137b0",
   "metadata": {
    "tags": []
   },
   "outputs": [],
   "source": [
    "states = loadmat('states.mat')"
   ]
  },
  {
   "cell_type": "code",
   "execution_count": 15,
   "id": "6b436674-cb93-4b0f-b7bd-2ce356021219",
   "metadata": {
    "tags": []
   },
   "outputs": [],
   "source": [
    "ground_truth_sleep_stage_id = states['downsampledStates'].astype(int)\n",
    "ground_truth_sleep_stage_id = ground_truth_sleep_stage_id.flatten()"
   ]
  },
  {
   "cell_type": "code",
   "execution_count": 16,
   "id": "b8f91c28-0d05-4daf-a1e2-c2b75bb2da9b",
   "metadata": {
    "tags": []
   },
   "outputs": [],
   "source": [
    "subject_id = np.ones(timesteps, dtype=int)"
   ]
  },
  {
   "cell_type": "code",
   "execution_count": 17,
   "id": "a003e1e1-9a2a-479b-b550-e0e2cf84c5a9",
   "metadata": {
    "tags": []
   },
   "outputs": [],
   "source": [
    "epochs_linked = np.column_stack([epoch_ids, \n",
    "                                 epoch_index, \n",
    "                                 ground_truth_sleep_stage_id,\n",
    "                                 subject_id\n",
    "                                ])"
   ]
  },
  {
   "cell_type": "markdown",
   "id": "7c55bab1-62c5-4f43-bab1-f4df91bf81eb",
   "metadata": {
    "tags": []
   },
   "source": [
    "# epochs_linked.shape"
   ]
  },
  {
   "cell_type": "markdown",
   "id": "9b1379c9-e5c1-4a13-9996-0ad265086579",
   "metadata": {},
   "source": [
    "## EpochTime\n",
    "- Nx3 data array, where N is the number of epochs, and columns are described as follows:\n",
    "\n",
    "\t- column 1: epoch ID\n",
    "\t- column 2: recording mode (i.e. baseline or recovery), where\n",
    "    \n",
    "\t\t\t   - 1 is associated with baseline,\n",
    "\t\t\t   - 2 is associated with recovery (after sleep deprivation)\n",
    "\t- column 3: the epoch date-time"
   ]
  },
  {
   "cell_type": "code",
   "execution_count": 18,
   "id": "ecc6c35a-d08b-4159-a400-355b3bc1e4b5",
   "metadata": {
    "tags": []
   },
   "outputs": [],
   "source": [
    "recording_mode = np.ones(timesteps).astype('<f8')"
   ]
  },
  {
   "cell_type": "code",
   "execution_count": 19,
   "id": "0f1f1bb7-a192-4b6e-b3b3-6f0a44b06a0f",
   "metadata": {
    "tags": []
   },
   "outputs": [],
   "source": [
    "start_value = 41137.2918055555\n",
    "step_size = 8.234392028162487e-05\n",
    "\n",
    "time = np.arange(start_value, start_value + step_size * timesteps, step_size).astype('<f8')\n",
    "\n",
    "time = time[:10542]"
   ]
  },
  {
   "cell_type": "code",
   "execution_count": 20,
   "id": "27cb2a85-bc7f-4aa0-a70f-a04d9741d7f1",
   "metadata": {
    "tags": []
   },
   "outputs": [],
   "source": [
    "epoch_time = np.column_stack([epoch_ids.astype('<f8'), recording_mode, time])"
   ]
  },
  {
   "cell_type": "code",
   "execution_count": 21,
   "id": "28adfde3-c0ee-41d4-af9d-09c559954bbb",
   "metadata": {
    "tags": []
   },
   "outputs": [],
   "source": [
    "np.savez(\"rgs14.npz\", d=rgs_14_bands, epochsLinked=epochs_linked, epochTime=epoch_time)"
   ]
  },
  {
   "cell_type": "code",
   "execution_count": null,
   "id": "d977e263-65a9-4d22-8af6-7d811d5b2984",
   "metadata": {},
   "outputs": [],
   "source": []
  }
 ],
 "metadata": {
  "kernelspec": {
   "display_name": "sleep-scoring-venv",
   "language": "python",
   "name": "sleep-scoring-venv"
  },
  "language_info": {
   "codemirror_mode": {
    "name": "ipython",
    "version": 3
   },
   "file_extension": ".py",
   "mimetype": "text/x-python",
   "name": "python",
   "nbconvert_exporter": "python",
   "pygments_lexer": "ipython3",
   "version": "3.10.4"
  }
 },
 "nbformat": 4,
 "nbformat_minor": 5
}
