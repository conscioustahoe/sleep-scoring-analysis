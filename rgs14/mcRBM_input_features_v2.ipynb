{
 "cells": [
  {
   "cell_type": "code",
   "execution_count": 1,
   "id": "a83dd068-891e-4300-bade-dda9d4d2231b",
   "metadata": {},
   "outputs": [],
   "source": [
    "import pandas as pd\n",
    "import numpy as np\n",
    "from scipy.io import loadmat"
   ]
  },
  {
   "cell_type": "code",
   "execution_count": 2,
   "id": "3681409e-4e16-45dc-93e7-4068af7f4f65",
   "metadata": {},
   "outputs": [],
   "source": [
    "timesteps = 3511"
   ]
  },
  {
   "cell_type": "code",
   "execution_count": 3,
   "id": "33875f0d-30cf-4c44-a3ff-ae5555da4b91",
   "metadata": {},
   "outputs": [],
   "source": [
    "lfp_buz_features = loadmat('lfp_buz_features_rgs14.mat')"
   ]
  },
  {
   "cell_type": "markdown",
   "id": "fe8e9f19-a638-47fe-b00e-9aace5d618be",
   "metadata": {},
   "source": [
    "## Bands\n",
    "- Nx4 data array, where N is the number of epochs, and columns refer to Delta PFC, Theta HPC, Delta/Theta and EMG"
   ]
  },
  {
   "cell_type": "code",
   "execution_count": 4,
   "id": "8dd64339-085b-45df-8f36-b29ab436739d",
   "metadata": {
    "tags": []
   },
   "outputs": [],
   "source": [
    "bands = np.load('features_matrix_smoothed.npy')"
   ]
  },
  {
   "cell_type": "code",
   "execution_count": 5,
   "id": "803bfea1-5b16-4b07-b4e9-854863f090ed",
   "metadata": {
    "tags": []
   },
   "outputs": [
    {
     "data": {
      "text/plain": [
       "(3511, 6)"
      ]
     },
     "execution_count": 5,
     "metadata": {},
     "output_type": "execute_result"
    }
   ],
   "source": [
    "bands.shape"
   ]
  },
  {
   "cell_type": "markdown",
   "id": "49f8ad99-80e0-4fce-89ad-608726412143",
   "metadata": {},
   "source": [
    "## EpochsLinked\n",
    "- Nx4 data array, where N is the number of epochs, and columns are described as follows:\n",
    "\n",
    "\t- column 1: epoch ID\n",
    "\t- column 2: epoch index (currently not used)\n",
    "\t- column 3: ground truth sleep stage ID, where\n",
    "\n",
    "\t\t\t\t- 1 is associated with wakefulness,\n",
    "\t\t\t\t- 2 is associated with NREM sleep,\n",
    "\t\t\t\t- 3 is associated with REM sleep\n",
    "\t- column 4: the subject ID (used in multi-subject analysis only)"
   ]
  },
  {
   "cell_type": "code",
   "execution_count": 6,
   "id": "768aa7cf-2dbc-43da-a700-a3d28d6486e8",
   "metadata": {},
   "outputs": [],
   "source": [
    "epoch_ids = np.arange(timesteps, dtype=int)\n",
    "epoch_index = np.arange(timesteps, dtype=int)\n",
    "states = loadmat('states.mat')\n",
    "ground_truth_sleep_stage_id = states['downsampledStates'].astype(int)\n",
    "ground_truth_sleep_stage_id = ground_truth_sleep_stage_id.flatten()[:timesteps]\n",
    "subject_id = np.ones(timesteps, dtype=int)\n",
    "epochs_linked = np.column_stack([epoch_ids, \n",
    "                                 epoch_index, \n",
    "                                 ground_truth_sleep_stage_id,\n",
    "                                 subject_id\n",
    "                                ])"
   ]
  },
  {
   "cell_type": "markdown",
   "id": "8f9bc09c-b86a-4752-8a72-d5a72bf80a4e",
   "metadata": {
    "tags": []
   },
   "source": [
    "## EpochTime\n",
    "- Nx3 data array, where N is the number of epochs, and columns are described as follows:\n",
    "\n",
    "\t- column 1: epoch ID\n",
    "\t- column 2: recording mode (i.e. baseline or recovery), where\n",
    "    \n",
    "\t\t\t   - 1 is associated with baseline,\n",
    "\t\t\t   - 2 is associated with recovery (after sleep deprivation)\n",
    "\t- column 3: the epoch date-time"
   ]
  },
  {
   "cell_type": "code",
   "execution_count": 7,
   "id": "710f7787-f9dc-422c-882f-644e7a77a7a8",
   "metadata": {},
   "outputs": [],
   "source": [
    "recording_mode = np.ones(timesteps).astype('<f8')\n",
    "start_value = 41137.2918055555\n",
    "step_size = 8.234392028162487e-05\n",
    "time = np.arange(start_value, start_value + step_size * timesteps, step_size).astype('<f8')\n",
    "time = time[:timesteps]\n",
    "epoch_time = np.column_stack([epoch_ids.astype('<f8'), recording_mode, time])"
   ]
  },
  {
   "cell_type": "markdown",
   "id": "bb45b543-27d8-47a2-9d71-c79c3832da1b",
   "metadata": {},
   "source": [
    "## Save"
   ]
  },
  {
   "cell_type": "code",
   "execution_count": 8,
   "id": "11d2cb29-4d70-4fcc-9391-52d02bef19b2",
   "metadata": {
    "tags": []
   },
   "outputs": [],
   "source": [
    "np.savez(\"rgs14_smoothed.npz\", d=bands, epochsLinked=epochs_linked, epochTime=epoch_time)"
   ]
  }
 ],
 "metadata": {
  "kernelspec": {
   "display_name": "sleep-scoring-venv",
   "language": "python",
   "name": "sleep-scoring-venv"
  },
  "language_info": {
   "codemirror_mode": {
    "name": "ipython",
    "version": 3
   },
   "file_extension": ".py",
   "mimetype": "text/x-python",
   "name": "python",
   "nbconvert_exporter": "python",
   "pygments_lexer": "ipython3",
   "version": "3.10.4"
  }
 },
 "nbformat": 4,
 "nbformat_minor": 5
}
