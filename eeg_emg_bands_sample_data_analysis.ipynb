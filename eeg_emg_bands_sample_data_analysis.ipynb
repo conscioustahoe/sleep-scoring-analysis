{
 "cells": [
  {
   "cell_type": "code",
   "execution_count": 1,
   "id": "8a3dee51-6c6f-4c2b-b1a1-aaf8d31d0ee1",
   "metadata": {
    "tags": []
   },
   "outputs": [],
   "source": [
    "from scipy.io import loadmat\n",
    "eeg_emg_bands = loadmat('synthesised-features/eeg_emg_bands_sample_data.mat')"
   ]
  },
  {
   "cell_type": "code",
   "execution_count": 2,
   "id": "bca26748-95dc-45ed-811c-62aec0828602",
   "metadata": {
    "tags": []
   },
   "outputs": [
    {
     "data": {
      "text/plain": [
       "dict_keys(['__header__', '__version__', '__globals__', 'epochTime', 'd', 'bandsD', 'epochsLinked'])"
      ]
     },
     "execution_count": 2,
     "metadata": {},
     "output_type": "execute_result"
    }
   ],
   "source": [
    "eeg_emg_bands.keys()"
   ]
  },
  {
   "cell_type": "code",
   "execution_count": 3,
   "id": "85735dfc-038c-4aa5-bf8f-33919361ba34",
   "metadata": {
    "tags": []
   },
   "outputs": [
    {
     "data": {
      "text/plain": [
       "array([[-0.7700516 , -0.3760239 , -0.683785  , ..., -0.5382018 ,\n",
       "        -0.23044461,  0.19272518],\n",
       "       [ 0.7632049 ,  0.43585336,  0.1796093 , ..., -0.87780964,\n",
       "        -0.62156934,  0.10145473],\n",
       "       [-0.00528526,  0.23130655, -0.25944912, ..., -0.02930842,\n",
       "         0.46144333,  0.49312115],\n",
       "       ...,\n",
       "       [ 0.21864802,  0.40962934,  0.10500968, ...,  0.50173366,\n",
       "         0.8063495 , -0.62143993],\n",
       "       [ 0.35620993, -0.19546735,  0.3797109 , ...,  0.9357698 ,\n",
       "         0.36058757, -0.62169456],\n",
       "       [-0.08637416, -1.0785775 , -0.44793767, ...,  1.3306514 ,\n",
       "         0.7000077 , -0.64962673]], dtype=float32)"
      ]
     },
     "execution_count": 3,
     "metadata": {},
     "output_type": "execute_result"
    }
   ],
   "source": [
    "eeg_emg_bands['d']"
   ]
  },
  {
   "cell_type": "code",
   "execution_count": 4,
   "id": "f7311c9d-9337-4664-8993-09f8dd149bfd",
   "metadata": {
    "tags": []
   },
   "outputs": [
    {
     "data": {
      "text/plain": [
       "array([[    0,     0,     1,    61],\n",
       "       [    1,     1,     1,    61],\n",
       "       [    2,     2,     1,    61],\n",
       "       ...,\n",
       "       [16197, 37407,     2,    61],\n",
       "       [16198, 37408,     2,    61],\n",
       "       [16199, 37409,     2,    61]], dtype=int32)"
      ]
     },
     "execution_count": 4,
     "metadata": {},
     "output_type": "execute_result"
    }
   ],
   "source": [
    "eeg_emg_bands['epochsLinked']"
   ]
  },
  {
   "cell_type": "code",
   "execution_count": 5,
   "id": "97fe30f9-1f3c-4e6f-9c25-9790005aa28a",
   "metadata": {
    "tags": []
   },
   "outputs": [
    {
     "data": {
      "text/plain": [
       "array([[0.00000000e+00, 1.00000000e+00, 4.11372917e+04],\n",
       "       [1.00000000e+00, 1.00000000e+00, 4.11372917e+04],\n",
       "       [2.00000000e+00, 1.00000000e+00, 4.11372918e+04],\n",
       "       ...,\n",
       "       [1.61970000e+04, 2.00000000e+00, 4.11402915e+04],\n",
       "       [1.61980000e+04, 2.00000000e+00, 4.11402916e+04],\n",
       "       [1.61990000e+04, 2.00000000e+00, 4.11402916e+04]])"
      ]
     },
     "execution_count": 5,
     "metadata": {},
     "output_type": "execute_result"
    }
   ],
   "source": [
    "eeg_emg_bands['epochTime']"
   ]
  },
  {
   "cell_type": "code",
   "execution_count": null,
   "id": "4ef19040-2122-469a-b5f8-66311d53809c",
   "metadata": {},
   "outputs": [],
   "source": []
  }
 ],
 "metadata": {
  "kernelspec": {
   "display_name": "sleep-scoring-venv",
   "language": "python",
   "name": "sleep-scoring-venv"
  },
  "language_info": {
   "codemirror_mode": {
    "name": "ipython",
    "version": 3
   },
   "file_extension": ".py",
   "mimetype": "text/x-python",
   "name": "python",
   "nbconvert_exporter": "python",
   "pygments_lexer": "ipython3",
   "version": "3.10.4"
  }
 },
 "nbformat": 4,
 "nbformat_minor": 5
}
