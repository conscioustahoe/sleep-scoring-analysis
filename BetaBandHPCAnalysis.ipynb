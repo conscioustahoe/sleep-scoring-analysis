{
 "cells": [
  {
   "cell_type": "markdown",
   "id": "01f9e943-0cdb-4000-ab3f-3faffdd03eba",
   "metadata": {},
   "source": [
    "# BetaBandHPCAnalysis"
   ]
  },
  {
   "cell_type": "markdown",
   "id": "2e9fa90f-974c-4181-8da0-e907fadf2154",
   "metadata": {},
   "source": [
    "## Load BetaBandHPC MAT Data"
   ]
  },
  {
   "cell_type": "code",
   "execution_count": 1,
   "id": "fb33e796-1a33-4c93-b648-76e629a4238f",
   "metadata": {
    "tags": []
   },
   "outputs": [],
   "source": [
    "from scipy.io import loadmat\n",
    "betaBandHPCMat = loadmat('BetaBandHPCMat.mat')"
   ]
  },
  {
   "cell_type": "code",
   "execution_count": 2,
   "id": "35f716a5-eb2d-4cd6-8697-ac6d577b20f8",
   "metadata": {
    "tags": []
   },
   "outputs": [
    {
     "data": {
      "text/plain": [
       "dict_keys(['__header__', '__version__', '__globals__', 'BetaBand'])"
      ]
     },
     "execution_count": 2,
     "metadata": {},
     "output_type": "execute_result"
    }
   ],
   "source": [
    "betaBandHPCMat.keys()"
   ]
  },
  {
   "cell_type": "code",
   "execution_count": null,
   "id": "b03f76d4-a4a0-462c-be6e-b712ffefc9b4",
   "metadata": {},
   "outputs": [],
   "source": [
    "# betaBandHPCMat['BetaBand']['data']"
   ]
  },
  {
   "cell_type": "code",
   "execution_count": null,
   "id": "2e6ddb4e-b53d-4e01-b890-767662571005",
   "metadata": {},
   "outputs": [],
   "source": [
    "# betaBandHPCMat['BetaBand']['spec']"
   ]
  },
  {
   "cell_type": "code",
   "execution_count": null,
   "id": "709af720-8d57-4404-a32f-910b4f27d0c7",
   "metadata": {},
   "outputs": [],
   "source": [
    "# betaBandHPCMat['BetaBand']['timestamps']"
   ]
  },
  {
   "cell_type": "code",
   "execution_count": null,
   "id": "f71f868c-37c3-49eb-918f-7e99877c72ef",
   "metadata": {},
   "outputs": [],
   "source": [
    "# betaBandHPCMat['BetaBand']['freqs']"
   ]
  },
  {
   "cell_type": "markdown",
   "id": "56d43d59-5258-4e6e-a8de-a02737bbba03",
   "metadata": {},
   "source": [
    "## Load DataFrame"
   ]
  },
  {
   "cell_type": "code",
   "execution_count": 3,
   "id": "77c9a9f7-f92b-4f03-850b-eb3e51185ed4",
   "metadata": {
    "tags": []
   },
   "outputs": [],
   "source": [
    "import numpy as np\n",
    "import pandas as pd"
   ]
  },
  {
   "cell_type": "code",
   "execution_count": 4,
   "id": "dd28b774-de1b-4ea7-96b2-7bf0ef8242af",
   "metadata": {
    "tags": []
   },
   "outputs": [],
   "source": [
    "data = betaBandHPCMat['BetaBand']['data']\n",
    "timesteps = betaBandHPCMat['BetaBand']['timestamps']"
   ]
  },
  {
   "cell_type": "code",
   "execution_count": 5,
   "id": "8780a99f-9a76-4483-a031-8fd68e8cb50d",
   "metadata": {
    "tags": []
   },
   "outputs": [],
   "source": [
    "flat_data = np.concatenate(data.all())\n",
    "df = pd.DataFrame({'BetaBandHPC': flat_data})"
   ]
  },
  {
   "cell_type": "code",
   "execution_count": 6,
   "id": "01dc74e5-ab0a-4a67-81dd-013354bab459",
   "metadata": {
    "tags": []
   },
   "outputs": [],
   "source": [
    "df['Timestep'] = range(1, len(betaBandHPCMat['BetaBand']['timestamps'].all()) + 1)\n",
    "df.set_index('Timestep', inplace=True)"
   ]
  },
  {
   "cell_type": "markdown",
   "id": "f9e153c1-befa-4f6d-ae01-7afc009e7f14",
   "metadata": {},
   "source": [
    "## Plot Timeseries"
   ]
  },
  {
   "cell_type": "code",
   "execution_count": null,
   "id": "0b85b4b3",
   "metadata": {
    "tags": []
   },
   "outputs": [],
   "source": [
    "import matplotlib.pyplot as plt"
   ]
  },
  {
   "cell_type": "code",
   "execution_count": null,
   "id": "7ffe8518-3319-4c1c-b895-5f2514b56350",
   "metadata": {
    "tags": []
   },
   "outputs": [],
   "source": []
  },
  {
   "cell_type": "code",
   "execution_count": null,
   "id": "817312d1-770a-443f-9e6e-49edd8e2b14e",
   "metadata": {
    "tags": []
   },
   "outputs": [],
   "source": []
  },
  {
   "cell_type": "code",
   "execution_count": null,
   "id": "10383cc9-ee9b-4405-a05a-d415538765ff",
   "metadata": {
    "tags": []
   },
   "outputs": [],
   "source": []
  },
  {
   "cell_type": "code",
   "execution_count": null,
   "id": "bbf84a05-8fbb-4a6d-b343-66c89838e3f4",
   "metadata": {
    "tags": []
   },
   "outputs": [],
   "source": []
  },
  {
   "cell_type": "code",
   "execution_count": null,
   "id": "9e0e3256-c91e-4da1-b271-6605e2ea04c8",
   "metadata": {
    "tags": []
   },
   "outputs": [],
   "source": []
  },
  {
   "cell_type": "code",
   "execution_count": null,
   "id": "81238c0d-c4a5-463c-92e2-10f2b25f988e",
   "metadata": {
    "tags": []
   },
   "outputs": [],
   "source": []
  },
  {
   "cell_type": "code",
   "execution_count": null,
   "id": "5847e0b3-59d6-4184-928b-b0ac86d6d7f7",
   "metadata": {
    "tags": []
   },
   "outputs": [],
   "source": []
  },
  {
   "cell_type": "code",
   "execution_count": null,
   "id": "9dcc009d-7d0f-4340-9842-c6c4c152430a",
   "metadata": {
    "tags": []
   },
   "outputs": [],
   "source": []
  },
  {
   "cell_type": "code",
   "execution_count": null,
   "id": "186f8045-c32b-4489-8158-985fbe3740c2",
   "metadata": {
    "tags": []
   },
   "outputs": [],
   "source": []
  },
  {
   "cell_type": "code",
   "execution_count": null,
   "id": "14b65586-b8f7-4e92-a579-8f2adb2b2856",
   "metadata": {
    "tags": []
   },
   "outputs": [],
   "source": [
    "df"
   ]
  },
  {
   "cell_type": "code",
   "execution_count": null,
   "id": "03923a5c-f738-4fbf-9959-30e2497a2c60",
   "metadata": {
    "tags": []
   },
   "outputs": [],
   "source": [
    "plt.figure(figsize=(12, 6))\n",
    "plt.plot(df.index, df['BetaBandHPC'], label='BetaBandHPC', color='blue')\n",
    "plt.title('Time Series Plot of BetaBandHPC')\n",
    "plt.xlabel('Timestep')\n",
    "plt.ylabel('BetaBandHPC Value')\n",
    "plt.legend()\n",
    "plt.grid(True)\n",
    "plt.show()"
   ]
  },
  {
   "cell_type": "code",
   "execution_count": null,
   "id": "55ebaeb7-44cb-4c20-89d6-3db2165209ad",
   "metadata": {},
   "outputs": [],
   "source": []
  }
 ],
 "metadata": {
  "kernelspec": {
   "display_name": "sleep-scoring-venv",
   "language": "python",
   "name": "sleep-scoring-venv"
  },
  "language_info": {
   "codemirror_mode": {
    "name": "ipython",
    "version": 3
   },
   "file_extension": ".py",
   "mimetype": "text/x-python",
   "name": "python",
   "nbconvert_exporter": "python",
   "pygments_lexer": "ipython3",
   "version": "3.10.4"
  }
 },
 "nbformat": 4,
 "nbformat_minor": 5
}
