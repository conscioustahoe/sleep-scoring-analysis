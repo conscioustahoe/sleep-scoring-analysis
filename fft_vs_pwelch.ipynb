{
 "cells": [
  {
   "cell_type": "markdown",
   "id": "1623c5ae-d9ec-4dfe-837e-2f70ac7fc940",
   "metadata": {},
   "source": [
    "# FFT vs Pwelch\n",
    "\n",
    "Fast Fourier Transform is a widely used mathematical technique in signal processing and other fields to analyze and transform signals from the time domain to the frequency domain.\n",
    "\n",
    "**FFT is primarily used for frequency analysis**: It decomposes a signal into its constituent sinusoidal components at different frequencies. This is valuable for understanding the frequency content of a signal and identifying dominant frequencies or harmonics.\n",
    "\n",
    "**Time-Domain to Frequency-Domain Transformation**: In the time domain, signals are represented as a function of time. FFT transforms this signal into the frequency domain, where it is represented as a function of frequency. This transformation is essential for various applications, including audio processing, image analysis, and vibration analysis.\n",
    "\n",
    "**Spectrum Analysis**: The result of an FFT operation is often called a \"frequency spectrum.\" This spectrum provides information about the amplitude and phase of the sinusoidal components present in the signal at different frequencies. It helps identify peaks in the spectrum, indicating the dominant frequencies in the signal.\n",
    "\n",
    "\n",
    "\n",
    "**pwelch** stands for \"Power Spectral Density (PSD) Estimate via Welch's Method,\", it is used when you want to estimate the distribution of power in a signal as a function of frequency.\n",
    "\n",
    "**Power Spectral Density (PSD)**: The power spectral density is a measure of how the power of a signal is distributed across different frequencies. It provides information about the signal's frequency content. In essence, it tells you how much power the signal contains at various frequencies.\n",
    "\n",
    "**Welch's Method**: Welch's method is a technique for estimating the PSD of a signal from a finite set of data points. It divides the input signal into overlapping segments, computes the periodogram (the squared magnitude of the Fourier transform) for each segment, and then averages these periodograms to obtain a smoother estimate of the PSD."
   ]
  },
  {
   "cell_type": "code",
   "execution_count": 1,
   "id": "6f39cdb0-109f-4cb7-80e8-70740ef762ee",
   "metadata": {
    "tags": []
   },
   "outputs": [],
   "source": [
    "from scipy.io import loadmat\n",
    "hpc_continuous = loadmat('continuous/HPC_100_CH18_0.continuous.mat')\n",
    "pfc_continuous = loadmat('continuous/PFC_100_CH22_0.continuous.mat')"
   ]
  },
  {
   "cell_type": "code",
   "execution_count": 2,
   "id": "49d7bbbd-9ac3-421d-bea2-b9b4acc279a2",
   "metadata": {
    "tags": []
   },
   "outputs": [
    {
     "data": {
      "text/plain": [
       "dict_keys(['__header__', '__version__', '__globals__', 'HPC'])"
      ]
     },
     "execution_count": 2,
     "metadata": {},
     "output_type": "execute_result"
    }
   ],
   "source": [
    "hpc_continuous.keys()"
   ]
  },
  {
   "cell_type": "code",
   "execution_count": 3,
   "id": "587637ea-0179-4ae1-82cf-461ab8e6aec8",
   "metadata": {
    "tags": []
   },
   "outputs": [
    {
     "data": {
      "text/plain": [
       "dict_keys(['__header__', '__version__', '__globals__', 'PFC'])"
      ]
     },
     "execution_count": 3,
     "metadata": {},
     "output_type": "execute_result"
    }
   ],
   "source": [
    "pfc_continuous.keys()"
   ]
  },
  {
   "cell_type": "code",
   "execution_count": 4,
   "id": "f936dd43-0e52-4c16-87dc-35585751c671",
   "metadata": {
    "tags": []
   },
   "outputs": [],
   "source": [
    "hpc_signal = hpc_continuous['HPC'].flatten()\n",
    "pfc_signal = pfc_continuous['PFC'].flatten()"
   ]
  },
  {
   "cell_type": "code",
   "execution_count": 5,
   "id": "1e2453a6-4765-477f-a051-58690db98caf",
   "metadata": {
    "tags": []
   },
   "outputs": [
    {
     "data": {
      "text/plain": [
       "array([ 40.62872178,  52.89949603,  44.57601113, ..., 153.14986907,\n",
       "       159.38136166, 160.77276103])"
      ]
     },
     "execution_count": 5,
     "metadata": {},
     "output_type": "execute_result"
    }
   ],
   "source": [
    "hpc_signal"
   ]
  },
  {
   "cell_type": "code",
   "execution_count": 6,
   "id": "d138cfed-4ec9-40ad-9194-b8207a68d65c",
   "metadata": {
    "tags": []
   },
   "outputs": [
    {
     "data": {
      "text/plain": [
       "array([ 10.57738713,  26.38347139,  21.90748099, ..., 159.53113327,\n",
       "       140.68865626, 136.32161884])"
      ]
     },
     "execution_count": 6,
     "metadata": {},
     "output_type": "execute_result"
    }
   ],
   "source": [
    "pfc_signal"
   ]
  },
  {
   "cell_type": "markdown",
   "id": "5e2e9f26-9445-41fd-ac1c-065a153d209a",
   "metadata": {},
   "source": [
    "## FFT Analysis"
   ]
  },
  {
   "cell_type": "code",
   "execution_count": 7,
   "id": "5528f6bf-8a45-41e9-b283-1b30667498fd",
   "metadata": {
    "tags": []
   },
   "outputs": [],
   "source": [
    "import numpy as np\n",
    "\n",
    "fft_result = np.fft.fft(hpc_signal)"
   ]
  },
  {
   "cell_type": "markdown",
   "id": "8e1dd117-a315-4c03-aaa4-95c82a12b1e2",
   "metadata": {},
   "source": [
    "The fft_result will contain the complex-valued Fourier coefficients. If you are interested in the magnitude (power) of the FFT, you can calculate it as follows:"
   ]
  },
  {
   "cell_type": "code",
   "execution_count": 8,
   "id": "9c2b2c29-ff27-4049-828c-397c698362a8",
   "metadata": {
    "tags": []
   },
   "outputs": [],
   "source": [
    "fft_magnitude = np.abs(fft_result)"
   ]
  },
  {
   "cell_type": "markdown",
   "id": "909225b2-4c50-460c-8e32-2fc0374ee738",
   "metadata": {
    "tags": []
   },
   "source": [
    "Create a frequency axis to associate frequencies with the FFT result. You can use `fft.fftfreq` function for this purpose."
   ]
  },
  {
   "cell_type": "code",
   "execution_count": 9,
   "id": "3b81f417-416c-475d-9df5-73814f96ca41",
   "metadata": {
    "tags": []
   },
   "outputs": [],
   "source": [
    "N = len(hpc_signal)\n",
    "sampling_rate = 2500 \n",
    "\n",
    "freq_axis = np.fft.fftfreq(N, 1.0 / sampling_rate)"
   ]
  },
  {
   "cell_type": "markdown",
   "id": "fff5526f-fa98-44af-a9f6-f6fa3bdd2864",
   "metadata": {},
   "source": [
    "## Visualize the FFT result"
   ]
  },
  {
   "cell_type": "code",
   "execution_count": 10,
   "id": "01a9a03f-2405-4189-b7a7-0bc70d1ce93d",
   "metadata": {
    "tags": []
   },
   "outputs": [
    {
     "data": {
      "image/png": "[encoded data removed]",
      "text/plain": [
       "<Figure size 720x432 with 1 Axes>"
      ]
     },
     "metadata": {
      "needs_background": "light"
     },
     "output_type": "display_data"
    }
   ],
   "source": [
    "import matplotlib.pyplot as plt\n",
    "\n",
    "plt.figure(figsize=(10, 6))\n",
    "plt.plot(freq_axis, fft_magnitude)\n",
    "plt.xlabel('Frequency (Hz)')\n",
    "plt.ylabel('Magnitude')\n",
    "plt.title('FFT of HPC Signal')\n",
    "plt.grid()\n",
    "plt.show()"
   ]
  },
  {
   "cell_type": "markdown",
   "id": "77cb3413-ca96-4bb2-b846-2583c0723a85",
   "metadata": {},
   "source": [
    "## Pwelch Analysis\n",
    "\n",
    "Use the `scipy.signal.welch` function to estimate the PSD of your HPC data. You can specify parameters such as the window type, overlap, and number of frequency bins."
   ]
  },
  {
   "cell_type": "code",
   "execution_count": 11,
   "id": "b8ab0ed6-cff2-4e60-b562-bb50dbbb14b0",
   "metadata": {
    "tags": []
   },
   "outputs": [],
   "source": [
    "from scipy import signal\n",
    "\n",
    "fs = 2500\n",
    "nperseg = 256  # Length of each segment\n",
    "noverlap = 128  # Overlap between segments\n",
    "window = 'hamming'  # Window function (e.g., 'hamming', 'hann', 'blackman')\n",
    "\n",
    "frequencies, psd = signal.welch(hpc_signal, fs=fs, nperseg=nperseg, noverlap=noverlap, window=window)"
   ]
  },
  {
   "cell_type": "markdown",
   "id": "a6fc0ef4-0232-47d3-9526-b8f398b843f2",
   "metadata": {},
   "source": [
    "## Visualize the Pwelch result"
   ]
  },
  {
   "cell_type": "code",
   "execution_count": 12,
   "id": "29c1f15a-5595-4215-ae3f-2d0a40ea7bf8",
   "metadata": {
    "tags": []
   },
   "outputs": [
    {
     "data": {
      "image/png": "[encoded data removed]",
      "text/plain": [
       "<Figure size 720x432 with 1 Axes>"
      ]
     },
     "metadata": {
      "needs_background": "light"
     },
     "output_type": "display_data"
    }
   ],
   "source": [
    "plt.figure(figsize=(10, 6))\n",
    "plt.semilogy(frequencies, psd)\n",
    "plt.xlabel('Frequency (Hz)')\n",
    "plt.ylabel('PSD (Power/Frequency)')\n",
    "plt.title('Power Spectral Density (PSD) Estimate of HPC')\n",
    "plt.grid()\n",
    "plt.show()"
   ]
  },
  {
   "cell_type": "code",
   "execution_count": null,
   "id": "830bdf5a-a3af-420a-b75a-2f605425e118",
   "metadata": {},
   "outputs": [],
   "source": []
  }
 ],
 "metadata": {
  "kernelspec": {
   "display_name": "sleep-scoring-venv",
   "language": "python",
   "name": "sleep-scoring-venv"
  },
  "language_info": {
   "codemirror_mode": {
    "name": "ipython",
    "version": 3
   },
   "file_extension": ".py",
   "mimetype": "text/x-python",
   "name": "python",
   "nbconvert_exporter": "python",
   "pygments_lexer": "ipython3",
   "version": "3.10.4"
  }
 },
 "nbformat": 4,
 "nbformat_minor": 5
}
